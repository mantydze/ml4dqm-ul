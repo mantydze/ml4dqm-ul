{
 "cells": [
  {
   "cell_type": "code",
   "execution_count": 1,
   "metadata": {},
   "outputs": [],
   "source": [
    "import json\n",
    "import pandas as pd"
   ]
  },
  {
   "cell_type": "code",
   "execution_count": 31,
   "metadata": {},
   "outputs": [],
   "source": [
    "#https://cmsoms.cern.ch/cms/runs/summary?cms_run_to=299329&cms_run_from=297046&cms_run_sequence=GLOBAL-RUN\n",
    "oms = pd.read_csv(\"../data_raw/cmsoms_2017B.csv\")\n",
    "raw = pd.read_csv(\"../data_raw/chargeInner_PXLayer_1.csv\")\n",
    "gjson = json.load(open(\"../data_raw/Cert_294927-306462_13TeV_PromptReco_Collisions17_JSON.txt\"))\n",
    "raw_runs = raw.run.unique()\n",
    "gjson_runs = list(map(int, list(gjson.keys())))"
   ]
  },
  {
   "cell_type": "code",
   "execution_count": null,
   "metadata": {},
   "outputs": [],
   "source": []
  },
  {
   "cell_type": "code",
   "execution_count": 32,
   "metadata": {},
   "outputs": [
    {
     "data": {
      "text/plain": [
       "4    18444\n",
       "Name: duration, dtype: int64"
      ]
     },
     "execution_count": 32,
     "metadata": {},
     "output_type": "execute_result"
    }
   ],
   "source": [
    "oms.loc[oms['run_number'] == 297050].duration"
   ]
  },
  {
   "cell_type": "code",
   "execution_count": 33,
   "metadata": {},
   "outputs": [
    {
     "name": "stdout",
     "output_type": "stream",
     "text": [
      "n raw runs 135\n"
     ]
    }
   ],
   "source": [
    "print(\"n raw runs\", len(raw_runs))"
   ]
  },
  {
   "cell_type": "code",
   "execution_count": 34,
   "metadata": {},
   "outputs": [
    {
     "name": "stdout",
     "output_type": "stream",
     "text": [
      "152\n",
      "83\n"
     ]
    }
   ],
   "source": [
    "oms = oms[oms['delivered_lumi']>1]\n",
    "print(len(oms))\n",
    "oms = oms[oms['duration'] > 1800]\n",
    "print(len(oms))\n",
    "oms_runs = oms.run_number.unique()"
   ]
  },
  {
   "cell_type": "code",
   "execution_count": 5,
   "metadata": {},
   "outputs": [
    {
     "name": "stdout",
     "output_type": "stream",
     "text": [
      "298678 not in oms_runs\n",
      "298653 not in oms_runs\n",
      "297678 not in oms_runs\n"
     ]
    }
   ],
   "source": [
    "for raw_run in raw_runs:\n",
    "    if raw_run not in oms_runs:\n",
    "        print(raw_run, \"not in oms_runs\")"
   ]
  },
  {
   "cell_type": "code",
   "execution_count": 6,
   "metadata": {},
   "outputs": [
    {
     "name": "stdout",
     "output_type": "stream",
     "text": [
      "297047 not in gjson_runs\n",
      "297048 not in gjson_runs\n",
      "297049 not in gjson_runs\n",
      "297168 not in gjson_runs\n",
      "297169 not in gjson_runs\n",
      "297170 not in gjson_runs\n",
      "297171 not in gjson_runs\n",
      "297179 not in gjson_runs\n",
      "297180 not in gjson_runs\n",
      "297181 not in gjson_runs\n",
      "297211 not in gjson_runs\n",
      "297281 not in gjson_runs\n",
      "297282 not in gjson_runs\n",
      "297283 not in gjson_runs\n",
      "297284 not in gjson_runs\n",
      "297285 not in gjson_runs\n",
      "297286 not in gjson_runs\n",
      "297287 not in gjson_runs\n",
      "297288 not in gjson_runs\n",
      "297289 not in gjson_runs\n",
      "297290 not in gjson_runs\n",
      "297291 not in gjson_runs\n",
      "297474 not in gjson_runs\n",
      "297494 not in gjson_runs\n",
      "297495 not in gjson_runs\n",
      "297496 not in gjson_runs\n",
      "297497 not in gjson_runs\n",
      "297498 not in gjson_runs\n",
      "297499 not in gjson_runs\n",
      "297501 not in gjson_runs\n",
      "297502 not in gjson_runs\n",
      "297598 not in gjson_runs\n",
      "297657 not in gjson_runs\n",
      "297658 not in gjson_runs\n",
      "297659 not in gjson_runs\n",
      "297660 not in gjson_runs\n",
      "297661 not in gjson_runs\n",
      "297662 not in gjson_runs\n",
      "297663 not in gjson_runs\n",
      "297664 not in gjson_runs\n",
      "297671 not in gjson_runs\n",
      "297672 not in gjson_runs\n",
      "297673 not in gjson_runs\n",
      "297678 not in gjson_runs\n",
      "298653 not in gjson_runs\n",
      "298678 not in gjson_runs\n",
      "298998 not in gjson_runs\n",
      "299183 not in gjson_runs\n",
      "299316 not in gjson_runs\n",
      "299317 not in gjson_runs\n",
      "299318 not in gjson_runs\n",
      "299324 not in gjson_runs\n",
      "299325 not in gjson_runs\n",
      "299326 not in gjson_runs\n",
      "54\n"
     ]
    }
   ],
   "source": [
    "i = 0\n",
    "for raw_run in sorted(raw_runs, reverse=False):\n",
    "    if raw_run not in gjson_runs:\n",
    "        print(raw_run, \"not in gjson_runs\")\n",
    "        i += 1\n",
    "print(i)"
   ]
  },
  {
   "cell_type": "code",
   "execution_count": 7,
   "metadata": {},
   "outputs": [
    {
     "data": {
      "text/plain": [
       "{297050,\n",
       " 297056,\n",
       " 297057,\n",
       " 297099,\n",
       " 297100,\n",
       " 297101,\n",
       " 297113,\n",
       " 297114,\n",
       " 297175,\n",
       " 297176,\n",
       " 297177,\n",
       " 297178,\n",
       " 297215,\n",
       " 297218,\n",
       " 297219,\n",
       " 297224,\n",
       " 297225,\n",
       " 297227,\n",
       " 297292,\n",
       " 297293,\n",
       " 297296,\n",
       " 297308,\n",
       " 297359,\n",
       " 297411,\n",
       " 297424,\n",
       " 297425,\n",
       " 297426,\n",
       " 297429,\n",
       " 297430,\n",
       " 297431,\n",
       " 297432,\n",
       " 297433,\n",
       " 297434,\n",
       " 297435,\n",
       " 297467,\n",
       " 297468,\n",
       " 297469,\n",
       " 297483,\n",
       " 297484,\n",
       " 297485,\n",
       " 297486,\n",
       " 297487,\n",
       " 297488,\n",
       " 297503,\n",
       " 297504,\n",
       " 297505,\n",
       " 297557,\n",
       " 297558,\n",
       " 297562,\n",
       " 297563,\n",
       " 297599,\n",
       " 297603,\n",
       " 297604,\n",
       " 297605,\n",
       " 297606,\n",
       " 297620,\n",
       " 297656,\n",
       " 297665,\n",
       " 297666,\n",
       " 297670,\n",
       " 297674,\n",
       " 297675,\n",
       " 297722,\n",
       " 297723,\n",
       " 298996,\n",
       " 298997,\n",
       " 299000,\n",
       " 299042,\n",
       " 299061,\n",
       " 299062,\n",
       " 299064,\n",
       " 299065,\n",
       " 299067,\n",
       " 299096,\n",
       " 299149,\n",
       " 299178,\n",
       " 299180,\n",
       " 299184,\n",
       " 299185,\n",
       " 299327,\n",
       " 299329}"
      ]
     },
     "execution_count": 7,
     "metadata": {},
     "output_type": "execute_result"
    }
   ],
   "source": [
    "set(raw_runs).intersection(set(gjson_runs))"
   ]
  }
 ],
 "metadata": {
  "kernelspec": {
   "display_name": "Python 3",
   "language": "python",
   "name": "python3"
  },
  "language_info": {
   "codemirror_mode": {
    "name": "ipython",
    "version": 3
   },
   "file_extension": ".py",
   "mimetype": "text/x-python",
   "name": "python",
   "nbconvert_exporter": "python",
   "pygments_lexer": "ipython3",
   "version": "3.8.5"
  }
 },
 "nbformat": 4,
 "nbformat_minor": 4
}
