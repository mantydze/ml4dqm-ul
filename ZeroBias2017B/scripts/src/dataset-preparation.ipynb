{
 "cells": [
  {
   "cell_type": "code",
   "execution_count": 1,
   "metadata": {
    "ExecuteTime": {
     "end_time": "2020-06-22T08:51:52.774397Z",
     "start_time": "2020-06-22T08:51:51.806018Z"
    }
   },
   "outputs": [],
   "source": [
    "import json\n",
    "import pandas as pd\n",
    "from pathlib import Path"
   ]
  },
  {
   "cell_type": "code",
   "execution_count": 2,
   "metadata": {
    "ExecuteTime": {
     "end_time": "2020-06-22T08:51:53.914946Z",
     "start_time": "2020-06-22T08:51:53.894387Z"
    }
   },
   "outputs": [],
   "source": [
    "def get_data(df, meta, verbose=False, cmap_name=\"Oranges\", show_images=True):\n",
    "    \n",
    "    condition = None\n",
    "    \n",
    "    for row in meta:\n",
    "        \n",
    "        sub_condition = None\n",
    "        \n",
    "        if \"include\" in row:\n",
    "            sub_condition = (df[\"run\"] == row[\"run_number\"]) & (df[\"lumi\"].isin(row[\"include\"]))\n",
    "            \n",
    "        if \"exclude\" in row:\n",
    "            sub_condition = (df[\"run\"] == row[\"run_number\"]) & ~df[\"lumi\"].isin(row[\"exclude\"])\n",
    "        \n",
    "        if \"include\" in row and \"exclude\" in row:\n",
    "            sub_condition = (df[\"run\"] == row[\"run_number\"]) & ~df[\"lumi\"].isin(row[\"exclude\"]) & df_orig[\"lumi\"].isin(row[\"include\"])\n",
    "        \n",
    "        if sub_condition is None:\n",
    "            sub_condition = df[\"run\"] == row[\"run_number\"]\n",
    "        \n",
    "        if verbose:\n",
    "            print(\"Sub\")\n",
    "            print(sub_condition.value_counts())\n",
    "        \n",
    "        if condition is None:\n",
    "            condition = sub_condition\n",
    "        else:\n",
    "            condition = condition | sub_condition\n",
    "        \n",
    "        if verbose:\n",
    "            print(\"Condition\")\n",
    "            print(condition.value_counts())\n",
    "    \n",
    "    if condition is not None:\n",
    "         return df[condition].copy()\n",
    "    else:\n",
    "        return pd.DataFrame().reindex_like(df)"
   ]
  },
  {
   "cell_type": "code",
   "execution_count": 3,
   "metadata": {},
   "outputs": [],
   "source": [
    "meta_medium = {\n",
    "    \"dset_path\": \"../data_raw/chargeInner_PXLayer_1.csv\",\n",
    "    \"dset_name\": \"ZeroBias\",\n",
    "    \"dset_era\": \"2017B\",\n",
    "    \"histo_name\": \"chargeInner_PXLayer_1\",\n",
    "    \n",
    "    \"good\": [{\"run_number\": 297050, \"exclude\": [420, 421, 424, 426, 429]}, \n",
    "             {\"run_number\": 297056, \"exclude\": [31, 34, 36, 40]}, \n",
    "             {\"run_number\": 297178, \"exclude\": [675, 678, 680, 683, 1266, 1378]}, \n",
    "            ],\n",
    "    \"bad\": [{\"run_number\": 297047}, {\"run_number\": 297048}, {\"run_number\": 297049},\n",
    "            {\"run_number\": 297170}, {\"run_number\": 297171}, \n",
    "            {\"run_number\": 297281}, {\"run_number\": 297284}, \n",
    "            {\"run_number\": 297286}, {\"run_number\": 297664}, \n",
    "            {\"run_number\": 297671}, {\"run_number\": 297672}, \n",
    "            {\"run_number\": 297050, \"include\": [420, 421, 424, 426, 429]}, \n",
    "            {\"run_number\": 297056, \"include\": [31, 34, 36, 40]}, \n",
    "            {\"run_number\": 297178, \"include\": [675, 678, 680, 683, 1266, 1378]}]\n",
    "}"
   ]
  },
  {
   "cell_type": "code",
   "execution_count": 4,
   "metadata": {
    "ExecuteTime": {
     "end_time": "2020-06-22T08:51:52.800376Z",
     "start_time": "2020-06-22T08:51:52.787984Z"
    }
   },
   "outputs": [],
   "source": [
    "meta_medium_p = {\n",
    "    \"dset_path\": \"../data_raw/chargeInner_PXLayer_1.csv\",\n",
    "    \"dset_name\": \"ZeroBias\",\n",
    "    \"dset_era\": \"2017B\",\n",
    "    \"histo_name\": \"chargeInner_PXLayer_1\",\n",
    "    \n",
    "    \"good\": [{\"run_number\": 297050, \"exclude\": [420, 421, 424, 426, 429]}, \n",
    "             {\"run_number\": 297056, \"exclude\": [31, 34, 36, 40]}, \n",
    "             {\"run_number\": 297178, \"exclude\": [675, 678, 680, 683, 1266, 1378]}, \n",
    "             {\"run_number\": 297675, \"exclude\": [242]}\n",
    "            ],\n",
    "    \"bad\": [{\"run_number\": 297047}, {\"run_number\": 297048}, {\"run_number\": 297049}, \n",
    "            {\"run_number\": 297170}, {\"run_number\": 297171}, \n",
    "            {\"run_number\": 297281}, {\"run_number\": 297284}, \n",
    "            {\"run_number\": 297286}, {\"run_number\": 297664}, \n",
    "            {\"run_number\": 297671}, {\"run_number\": 297672}, \n",
    "            {\"run_number\": 297050, \"include\": [420, 421, 424, 426, 429]}, \n",
    "            {\"run_number\": 297056, \"include\": [31, 34, 36, 40]}, \n",
    "            {\"run_number\": 297178, \"include\": [675, 678, 680, 683, 1266, 1378]}]\n",
    "}"
   ]
  },
  {
   "cell_type": "code",
   "execution_count": 5,
   "metadata": {},
   "outputs": [],
   "source": [
    "# Single\n",
    "meta_single = {\n",
    "    \"dset_path\": \"../data_raw/chargeInner_PXLayer_1.csv\",\n",
    "    \"dset_name\": \"ZeroBias\",\n",
    "    \"dset_era\": \"2017B\",\n",
    "    \"histo_name\": \"chargeInner_PXLayer_1\",\n",
    "    \n",
    "    \"good\": [{\"run_number\": 297050, \"exclude\": [420, 421, 424, 426, 429]}],\n",
    "    \"bad\": [{\"run_number\": 297050, \"include\": [420, 421, 424, 426, 429]},\n",
    "            {\"run_number\": 297047}\n",
    "           ]\n",
    "}"
   ]
  },
  {
   "cell_type": "code",
   "execution_count": 6,
   "metadata": {},
   "outputs": [],
   "source": [
    "# Small\n",
    "meta_small = {\n",
    "    \"dset_path\": \"../data_raw/chargeInner_PXLayer_1.csv\",\n",
    "    \"dset_name\": \"ZeroBias\",\n",
    "    \"dset_era\": \"2017B\",\n",
    "    \"histo_name\": \"chargeInner_PXLayer_1\",\n",
    "    \n",
    "    \"good\": [\n",
    "             {\"run_number\": 297050, \"exclude\": [420, 421, 424, 426, 429]}             \n",
    "            ],\n",
    "    \"bad\": [{\"run_number\": 297047}, \n",
    "            {\"run_number\": 297048},\n",
    "            {\"run_number\": 297049},\n",
    "            {\"run_number\": 297050, \"include\": [420, 421, 424, 426, 429]}\n",
    "           ]\n",
    "}"
   ]
  },
  {
   "cell_type": "markdown",
   "metadata": {},
   "source": [
    "### Train & Test data"
   ]
  },
  {
   "cell_type": "code",
   "execution_count": 9,
   "metadata": {},
   "outputs": [
    {
     "name": "stdout",
     "output_type": "stream",
     "text": [
      "../data/medium\n",
      "df_orig (27208, 115)\n",
      "df_good (2324, 116)\n",
      "df_bad (312, 116)\n",
      "df_train (2636, 116)\n",
      "df_test (24572, 115)\n"
     ]
    }
   ],
   "source": [
    "def make_df(meta, save_dir):\n",
    "    print(save_dir)\n",
    "    save_dir = Path(save_dir)\n",
    "    save_dir.mkdir(parents=True, exist_ok=True)\n",
    "\n",
    "    # Read dataset\n",
    "    df_orig = pd.read_csv(meta[\"dset_path\"])\n",
    "\n",
    "    # Drop empty rows\n",
    "    df_orig.drop(df_orig[df_orig.entries == 0].index, inplace=True)\n",
    "\n",
    "    # Drop garbage\n",
    "    df_orig.drop([\"Unnamed: 0\", \"Unnamed: 0.1\", \"fromrun.1\", \"fromlumi.1\", \"hname.1\"], axis=1, inplace=True, errors=\"ignore\")\n",
    "\n",
    "    print(\"df_orig\", df_orig.shape)\n",
    "\n",
    "    # Train GOOD\n",
    "    df_good = get_data(df_orig, meta[\"good\"], cmap_name=\"Greens\", show_images=False)\n",
    "    df_good['y'] = 1\n",
    "    print(\"df_good\", df_good.shape)\n",
    "\n",
    "    # Train BAD\n",
    "    df_bad = get_data(df_orig, meta[\"bad\"], cmap_name=\"Reds\", show_images=False)\n",
    "    df_bad['y'] = 0\n",
    "    print(\"df_bad\", df_bad.shape)\n",
    "\n",
    "    # Train Dataset\n",
    "    df_train = pd.concat([df_good, df_bad], ignore_index=True) \n",
    "    df_train.to_csv(save_dir.joinpath(\"train.csv\"))\n",
    "\n",
    "    print(\"df_train\", df_train.shape)\n",
    "\n",
    "    # Test data (original dataset without handpicked GOOD and BAD histograms)\n",
    "    exclude_runs = list(df_good[\"run\"].unique()) + list(df_bad[\"run\"].unique())\n",
    "    df_test = df_orig[~df_orig[\"run\"].isin(exclude_runs)].copy()\n",
    "\n",
    "    df_test.to_csv(save_dir.joinpath(\"test.csv\"))\n",
    "\n",
    "    print(\"df_test\", df_test.shape)\n",
    "\n",
    "    with open(save_dir.joinpath('meta.json'), 'w') as fh:\n",
    "        json.dump(meta, fh)\n",
    "    \n",
    "    df_plot(df_train, save_path=save_dir.joinpath(\"df_train.jpg\"))\n",
    "#     do_tsne(df_train, save_path=save_dir.joinpath(\"tsne_df_train.jpg\"))\n",
    "\n",
    "#     df_test['y'] = 2\n",
    "#     do_tsne(pd.concat([df_train, df_test], ignore_index=True), save_path=save_dir.joinpath(\"tsne_df.jpg\"))\n",
    "\n",
    "make_df(meta_small, \"../data/small\")\n",
    "make_df(meta_medium, \"../data/medium\")\n",
    "make_df(meta_medium_p, \"../data/medium_p\")\n",
    "# make_df(meta_single, \"../data/single\")"
   ]
  },
  {
   "cell_type": "code",
   "execution_count": 8,
   "metadata": {},
   "outputs": [],
   "source": [
    "# df_orig = pd.read_csv(\"../data_raw/chargeInner_PXLayer_1.csv\")\n",
    "# df_orig.drop(df_orig[df_orig.entries == 0].index, inplace=True)\n",
    "# df_orig.drop([\"Unnamed: 0\", \"Unnamed: 0.1\", \"fromrun.1\", \"fromlumi.1\", \"hname.1\"], axis=1, inplace=True, errors=\"ignore\")\n",
    "# do_tsne(df_orig, save_path=\"../data_raw/df.jpg\", ignore_y=True)"
   ]
  },
  {
   "cell_type": "code",
   "execution_count": null,
   "metadata": {},
   "outputs": [],
   "source": [
    "\n"
   ]
  }
 ],
 "metadata": {
  "kernelspec": {
   "display_name": "Python 3",
   "language": "python",
   "name": "python3"
  },
  "language_info": {
   "codemirror_mode": {
    "name": "ipython",
    "version": 3
   },
   "file_extension": ".py",
   "mimetype": "text/x-python",
   "name": "python",
   "nbconvert_exporter": "python",
   "pygments_lexer": "ipython3",
   "version": "3.8.5"
  },
  "varInspector": {
   "cols": {
    "lenName": 16,
    "lenType": 16,
    "lenVar": 40
   },
   "kernels_config": {
    "python": {
     "delete_cmd_postfix": "",
     "delete_cmd_prefix": "del ",
     "library": "var_list.py",
     "varRefreshCmd": "print(var_dic_list())"
    },
    "r": {
     "delete_cmd_postfix": ") ",
     "delete_cmd_prefix": "rm(",
     "library": "var_list.r",
     "varRefreshCmd": "cat(var_dic_list()) "
    }
   },
   "types_to_exclude": [
    "module",
    "function",
    "builtin_function_or_method",
    "instance",
    "_Feature"
   ],
   "window_display": false
  }
 },
 "nbformat": 4,
 "nbformat_minor": 4
}
