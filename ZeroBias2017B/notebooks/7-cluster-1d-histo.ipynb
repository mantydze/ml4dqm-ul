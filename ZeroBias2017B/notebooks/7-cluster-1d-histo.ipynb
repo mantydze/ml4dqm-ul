{
 "cells": [
  {
   "cell_type": "code",
   "execution_count": 1,
   "metadata": {
    "ExecuteTime": {
     "end_time": "2020-03-19T04:28:37.721918Z",
     "start_time": "2020-03-19T04:28:37.673459Z"
    }
   },
   "outputs": [],
   "source": [
    "from joblib import register_parallel_backend, parallel_backend\n",
    "\n",
    "# register_parallel_backend('threading')"
   ]
  },
  {
   "cell_type": "code",
   "execution_count": 2,
   "metadata": {
    "ExecuteTime": {
     "end_time": "2020-03-19T04:28:38.104951Z",
     "start_time": "2020-03-19T04:28:38.099255Z"
    }
   },
   "outputs": [],
   "source": [
    "import warnings\n",
    "warnings.simplefilter(action='ignore', category=FutureWarning)"
   ]
  },
  {
   "cell_type": "code",
   "execution_count": 3,
   "metadata": {
    "ExecuteTime": {
     "end_time": "2020-03-19T04:28:40.407651Z",
     "start_time": "2020-03-19T04:28:39.483882Z"
    }
   },
   "outputs": [],
   "source": [
    "import numpy as np\n",
    "import pandas as pd\n",
    "from sklearn.model_selection import train_test_split\n",
    "from sklearn.model_selection import StratifiedKFold\n",
    "\n",
    "from sklearn.metrics import confusion_matrix, accuracy_score, roc_curve, auc\n",
    "\n",
    "\n"
   ]
  },
  {
   "cell_type": "code",
   "execution_count": 4,
   "metadata": {
    "ExecuteTime": {
     "end_time": "2020-03-19T04:28:40.421438Z",
     "start_time": "2020-03-19T04:28:40.418532Z"
    }
   },
   "outputs": [],
   "source": [
    "# # Class balance\n",
    "def print_unique(values):\n",
    "    unique, counts = np.unique(values, return_counts=True)\n",
    "\n",
    "    for cls, cnt in zip(unique, counts):\n",
    "        print(\"Class [%d] Count [%d]\" % (cls, cnt))\n",
    "        \n"
   ]
  },
  {
   "cell_type": "code",
   "execution_count": 5,
   "metadata": {
    "ExecuteTime": {
     "end_time": "2020-03-19T04:28:40.670656Z",
     "start_time": "2020-03-19T04:28:40.558278Z"
    }
   },
   "outputs": [],
   "source": [
    "import matplotlib.pyplot as plt\n",
    "\n",
    "def view_histo(row, data):\n",
    "    \n",
    "#     print(row)\n",
    "#     return\n",
    "    hname = row[\"hname\"]\n",
    "    ls_number = row[\"lumi\"]\n",
    "    run_number = row[\"run\"]\n",
    "    is_good = row[\"good\"]\n",
    "    is_good_pixel = row[\"good_pixel\"]\n",
    "    \n",
    "    plt.figure(figsize=(10, 5))\n",
    "    plt.title(\"%s Run: %s LS: %s GLabel: %d PLabel %d\" % (hname, run_number, ls_number, is_good, is_good_pixel))\n",
    "\n",
    "    plt.plot(range(len(data)), data, drawstyle='steps-pre', label=hname)\n",
    "    plt.legend()"
   ]
  },
  {
   "cell_type": "code",
   "execution_count": 46,
   "metadata": {
    "ExecuteTime": {
     "end_time": "2020-03-19T05:15:07.604664Z",
     "start_time": "2020-03-19T05:15:07.151731Z"
    }
   },
   "outputs": [
    {
     "name": "stdout",
     "output_type": "stream",
     "text": [
      "(28335, 120)\n",
      "(27208, 115)\n",
      "DF (27208, 115)\n",
      "(28747, 115)\n",
      "(27641, 115)\n",
      "DF (54849, 115)\n"
     ]
    }
   ],
   "source": [
    "class Clustering:\n",
    "    \n",
    "    def __init__(self):\n",
    "        self.clustering = None\n",
    "        self.df = None\n",
    "        \n",
    "    def load_data(self, filename):\n",
    "        df = pd.read_csv(filename)\n",
    "        print(df.shape)\n",
    "        \n",
    "        # Filter list of columns which will be used for training\n",
    "        bin_cols = [col for col in df.columns if 'bin_' in col]\n",
    "\n",
    "        # remove first and last values as those are over/under flows\n",
    "        self.bin_cols = bin_cols[1:-1]\n",
    "        \n",
    "        # Drop empty rows\n",
    "        df.drop(df[df.entries == 0].index, inplace=True)\n",
    "        \n",
    "        # Drop garbage\n",
    "        df.drop([\"Unnamed: 0\", \"Unnamed: 0.1\", \"fromrun.1\", \"fromlumi.1\", \"hname.1\"], axis=1, inplace=True, errors=\"ignore\")\n",
    "        \n",
    "        print(df.shape)\n",
    "        \n",
    "        self.df = pd.concat([self.df, df], ignore_index=True) if self.df is not None else df\n",
    "            \n",
    "        # Normalization, divide every bin value by total entries\n",
    "        self.X = self.df.filter(self.bin_cols, axis=1).copy().div(self.df.entries, axis=0)\n",
    "\n",
    "        self.y = self.df[\"good_pixel\"]\n",
    "        \n",
    "        print(\"DF\", self.df.shape)\n",
    "    \n",
    "\n",
    "hname = \"chargeInner_PXLayer_1\"\n",
    "\n",
    "c = Clustering()\n",
    "c.load_data(\"/home/mantydze/data/ZeroBias2017B/massaged/{hname}.csv\".format(hname=hname))\n",
    "c.load_data(\"/home/mantydze/data/ZeroBias2017D/massaged/{hname}.csv\".format(hname=hname))"
   ]
  },
  {
   "cell_type": "code",
   "execution_count": 47,
   "metadata": {
    "ExecuteTime": {
     "end_time": "2020-03-19T06:51:20.546120Z",
     "start_time": "2020-03-19T06:51:20.526316Z"
    }
   },
   "outputs": [],
   "source": [
    "from sklearn.decomposition import PCA\n",
    "import numpy as np\n",
    "import random\n",
    "get_colors = lambda n: list(map(lambda i: \"#\" + \"%06x\" % random.randint(0, 0xFFFFFF),range(n)))\n",
    "\n",
    "good_bad_colors=[\"red\", \"green\", \"orange\"] # red is -1\n",
    "cluster_colors = get_colors(100)\n",
    "\n",
    "def do_pca(df_, X_):\n",
    "    # import matplotlib.pyplot as plt\n",
    "\n",
    "    pca = PCA(n_components=3)\n",
    "    pcomp = pca.fit_transform(X_)\n",
    "\n",
    "    print(pca.explained_variance_ratio_)\n",
    "\n",
    "    plt.figure()\n",
    "    plt.grid()\n",
    "    plt.plot(np.cumsum(pca.explained_variance_ratio_))\n",
    "    plt.xlabel('Number of Components')\n",
    "    plt.ylabel('Variance (%)') #for each component\n",
    "    plt.title('Explained Variance ratio')\n",
    "    plt.show()\n",
    "    \n",
    "    df_[\"pcx\"] = pcomp[:,0]\n",
    "    df_[\"pcy\"] = pcomp[:,1]\n",
    "    \n",
    "    plt.scatter(df_[\"pcx\"], df_[\"pcy\"], color=[good_bad_colors[i] for i in df_[\"good_pixel\"]], label=df_[\"good_pixel\"])\n",
    "    plt.show()"
   ]
  },
  {
   "cell_type": "code",
   "execution_count": 48,
   "metadata": {
    "ExecuteTime": {
     "end_time": "2020-03-19T06:51:24.532193Z",
     "start_time": "2020-03-19T06:51:24.526673Z"
    }
   },
   "outputs": [],
   "source": [
    "from sklearn.manifold import MDS\n",
    "\n",
    "def do_mds(df_, X_, labels_=None):\n",
    "    \n",
    "    mds = MDS(n_components=2)\n",
    "    X_t = mds.fit_transform(X_)\n",
    "    print(X_t.shape)\n",
    "    \n",
    "    df_[\"mdsx\"] = X_t[:,0]\n",
    "    df_[\"mdsy\"] = X_t[:,1]\n",
    "    \n",
    "    if labels_:\n",
    "        plt.scatter(df_[\"mdsx\"], df_[\"mdsy\"], color=[cluster_colors[i] for i in labels_])\n",
    "        plt.show()\n",
    "    \n",
    "    plt.scatter(df_[\"mdsx\"], df_[\"mdsy\"], color=[good_bad_colors[i] for i in df_[\"good_pixel\"]])\n",
    "    plt.show()"
   ]
  },
  {
   "cell_type": "code",
   "execution_count": 49,
   "metadata": {
    "ExecuteTime": {
     "end_time": "2020-03-19T06:51:33.242973Z",
     "start_time": "2020-03-19T06:51:30.569956Z"
    }
   },
   "outputs": [
    {
     "name": "stdout",
     "output_type": "stream",
     "text": [
      "[0.79456789 0.18183579 0.0114638 ]\n"
     ]
    },
    {
     "data": {
      "image/png": "[encoded data removed]",
      "text/plain": [
       "<Figure size 432x288 with 1 Axes>"
      ]
     },
     "metadata": {
      "needs_background": "light"
     },
     "output_type": "display_data"
    },
    {
     "data": {
      "image/png": "[encoded data removed]",
      "text/plain": [
       "<Figure size 432x288 with 1 Axes>"
      ]
     },
     "metadata": {
      "needs_background": "light"
     },
     "output_type": "display_data"
    }
   ],
   "source": [
    "do_pca(c.df, c.X)"
   ]
  },
  {
   "cell_type": "code",
   "execution_count": null,
   "metadata": {
    "ExecuteTime": {
     "end_time": "2020-03-04T09:43:16.826347Z",
     "start_time": "2020-03-04T09:43:15.219467Z"
    }
   },
   "outputs": [],
   "source": []
  },
  {
   "cell_type": "code",
   "execution_count": 25,
   "metadata": {
    "ExecuteTime": {
     "end_time": "2020-03-19T04:30:26.202774Z",
     "start_time": "2020-03-19T04:30:26.168989Z"
    }
   },
   "outputs": [],
   "source": [
    "\n",
    "goods = [297308, 297425, 297293, 297050]\n",
    "bads = [297179, 297180]\n",
    "goods = [297050, 297056, 297057, 297099, 297100]#, 297101, 297113, 297114, 297175, 297176] #, 297177, 297178, 297215, 297218, 297219, 297224, 297225, 297227, 297292, 297293, 297296, 297308, 297359, 297411, 297424, 297425, 297426, 297429, 297430, 297431, 297432, 297433, 297434, 297435, 297467, 297468, 297469, 297483, 297484, 297485, 297486, 297487, 297488, 297503, 297504, 297505, 297557, 297558, 297562, 297563, 297599, 297603, 297604, 297605, 297606, 297620, 297656, 297665, 297666, 297670, 297674, 297675, 297722, 297723, 298996, 298997, 299000, 299042, 299061, 299062, 299064, 299065, 299067, 299096, 299149, 299178, 299180, 299184, 299185, 299327, 299329, 299368, 299369, 299370, 299380, 299381, 299394, 299395, 299396, 299420, 299443, 299450, 299477, 299478, 299479, 299480, 299481, 299593, 299594, 299595, 299597, 299649]\n",
    "bads = [297046, 297047, 297048, 297049, 297168, 297169, 297170, 297171, 297179, 297180, 297181, 297211, 297281, 297282, 297283, 297284, 297285, 297286, 297287, 297288, 297289, 297290, 297291, 297495, 297496, 297497, 297498, 297499, 297501, 297502, 297662, 297663, 297664, 297671, 297672, 299316, 299317, 299318, 299324, 299325, 299326, 301086, 301665, 301912, 302646, 302660, 303948, 303989, 305249, 305250]\n",
    "subdf = c.df.copy()\n",
    "subdf = subdf[subdf[\"run\"].isin(goods + bads)]\n",
    "subX = subdf.filter(c.bin_cols, axis=1).copy().div(subdf.entries, axis=0)\n",
    "suby = subdf[\"good_pixel\"]"
   ]
  },
  {
   "cell_type": "code",
   "execution_count": 80,
   "metadata": {
    "ExecuteTime": {
     "end_time": "2020-03-19T08:05:36.347665Z",
     "start_time": "2020-03-19T08:05:36.318497Z"
    }
   },
   "outputs": [],
   "source": [
    "rs = np.random.RandomState()\n",
    "subdf = c.df.sample(frac =.10, random_state=rs)\n",
    "subX = subdf.filter(c.bin_cols, axis=1).copy().div(subdf.entries, axis=0)\n",
    "suby = subdf[\"good\"]"
   ]
  },
  {
   "cell_type": "code",
   "execution_count": 81,
   "metadata": {
    "ExecuteTime": {
     "end_time": "2020-03-19T08:05:37.367818Z",
     "start_time": "2020-03-19T08:05:36.830970Z"
    }
   },
   "outputs": [
    {
     "name": "stdout",
     "output_type": "stream",
     "text": [
      "[0.79836717 0.17673439 0.01151914]\n"
     ]
    },
    {
     "data": {
      "image/png": "[encoded data removed]",
      "text/plain": [
       "<Figure size 432x288 with 1 Axes>"
      ]
     },
     "metadata": {
      "needs_background": "light"
     },
     "output_type": "display_data"
    },
    {
     "data": {
      "image/png": "[encoded data removed]",
      "text/plain": [
       "<Figure size 432x288 with 1 Axes>"
      ]
     },
     "metadata": {
      "needs_background": "light"
     },
     "output_type": "display_data"
    }
   ],
   "source": [
    "do_pca(subdf, subX)"
   ]
  },
  {
   "cell_type": "code",
   "execution_count": null,
   "metadata": {},
   "outputs": [],
   "source": []
  },
  {
   "cell_type": "code",
   "execution_count": 82,
   "metadata": {
    "ExecuteTime": {
     "end_time": "2020-03-19T08:09:03.148554Z",
     "start_time": "2020-03-19T08:05:42.206414Z"
    }
   },
   "outputs": [
    {
     "name": "stdout",
     "output_type": "stream",
     "text": [
      "Class [-1] Count [111]\n",
      "Class [0] Count [178]\n",
      "Class [1] Count [2553]\n",
      "Class [2] Count [2643]\n",
      "\n",
      "Class [0] Count [375]\n",
      "Class [1] Count [5110]\n"
     ]
    }
   ],
   "source": [
    "# DBSCAN\n",
    "from scipy.spatial.distance import jensenshannon\n",
    "from sklearn.cluster import DBSCAN\n",
    "\n",
    "with parallel_backend('loky'):\n",
    "    c1 = DBSCAN(eps=0.03, min_samples=10, metric=jensenshannon, metric_params={\"base\":2}, n_jobs=4)\n",
    "    c1.fit(subX)\n",
    "    \n",
    "print_unique(c1.labels_)\n",
    "print()\n",
    "print_unique(suby)\n"
   ]
  },
  {
   "cell_type": "code",
   "execution_count": 53,
   "metadata": {
    "ExecuteTime": {
     "end_time": "2020-03-19T06:53:20.112730Z",
     "start_time": "2020-03-19T06:53:12.348957Z"
    }
   },
   "outputs": [
    {
     "name": "stdout",
     "output_type": "stream",
     "text": [
      "(1000, 2)\n"
     ]
    },
    {
     "data": {
      "image/png": "[encoded data removed]",
      "text/plain": [
       "<Figure size 432x288 with 1 Axes>"
      ]
     },
     "metadata": {
      "needs_background": "light"
     },
     "output_type": "display_data"
    },
    {
     "data": {
      "image/png": "[encoded data removed]",
      "text/plain": [
       "<Figure size 432x288 with 1 Axes>"
      ]
     },
     "metadata": {
      "needs_background": "light"
     },
     "output_type": "display_data"
    }
   ],
   "source": [
    "do_mds(subdf, subX, list(c1.labels_))"
   ]
  },
  {
   "cell_type": "code",
   "execution_count": 52,
   "metadata": {
    "ExecuteTime": {
     "end_time": "2020-03-05T10:36:33.337007Z",
     "start_time": "2020-03-05T10:36:33.331113Z"
    }
   },
   "outputs": [
    {
     "name": "stdout",
     "output_type": "stream",
     "text": [
      "1\n"
     ]
    }
   ],
   "source": [
    "match = 0\n",
    "for o, e in zip(c1.labels_, suby):\n",
    "    if o == e:\n",
    "        match += 1\n",
    "#     print(o, e)\n",
    "    \n",
    "print(match)"
   ]
  },
  {
   "cell_type": "code",
   "execution_count": 67,
   "metadata": {
    "ExecuteTime": {
     "end_time": "2020-03-10T07:03:39.646812Z",
     "start_time": "2020-03-10T07:03:39.109842Z"
    }
   },
   "outputs": [
    {
     "name": "stdout",
     "output_type": "stream",
     "text": [
      "0.08194082558848101\n"
     ]
    },
    {
     "data": {
      "image/png": "[encoded data removed]",
      "text/plain": [
       "<Figure size 720x360 with 1 Axes>"
      ]
     },
     "metadata": {
      "needs_background": "light"
     },
     "output_type": "display_data"
    },
    {
     "data": {
      "image/png": "[encoded data removed]",
      "text/plain": [
       "<Figure size 720x360 with 1 Axes>"
      ]
     },
     "metadata": {
      "needs_background": "light"
     },
     "output_type": "display_data"
    }
   ],
   "source": [
    "from scipy.spatial.distance import jensenshannon\n",
    "from scipy import stats\n",
    "\n",
    "pi = 2\n",
    "qi = 28\n",
    "\n",
    "# js_pq = jensenshannon(subX.iloc[pi], subX.iloc[qi], base=10)\n",
    "# view_histo(subdf.iloc[pi], subX.iloc[pi])\n",
    "# view_histo(subdf.iloc[qi], subX.iloc[qi])\n",
    "\n",
    "js_pq = jensenshannon(c.X.iloc[pi], c.X.iloc[qi], base=2)\n",
    "view_histo(c.df.iloc[pi], c.X.iloc[pi])\n",
    "view_histo(c.df.iloc[qi], c.X.iloc[qi])\n",
    "print(js_pq)"
   ]
  },
  {
   "cell_type": "code",
   "execution_count": 65,
   "metadata": {
    "ExecuteTime": {
     "end_time": "2020-03-10T07:03:16.093343Z",
     "start_time": "2020-03-10T07:03:15.562331Z"
    }
   },
   "outputs": [
    {
     "name": "stdout",
     "output_type": "stream",
     "text": [
      "0.01424206567170145\n"
     ]
    },
    {
     "data": {
      "image/png": "[encoded data removed]",
      "text/plain": [
       "<Figure size 720x360 with 1 Axes>"
      ]
     },
     "metadata": {
      "needs_background": "light"
     },
     "output_type": "display_data"
    },
    {
     "data": {
      "image/png": "[encoded data removed]",
      "text/plain": [
       "<Figure size 720x360 with 1 Axes>"
      ]
     },
     "metadata": {
      "needs_background": "light"
     },
     "output_type": "display_data"
    }
   ],
   "source": [
    "pi = 1\n",
    "qi = 2\n",
    "js_pq = jensenshannon(c.X.iloc[pi], c.X.iloc[qi], base=2)\n",
    "view_histo(c.df.iloc[pi], c.X.iloc[pi])\n",
    "view_histo(c.df.iloc[qi], c.X.iloc[qi])\n",
    "print(js_pq)        "
   ]
  },
  {
   "cell_type": "code",
   "execution_count": null,
   "metadata": {},
   "outputs": [],
   "source": []
  },
  {
   "cell_type": "code",
   "execution_count": null,
   "metadata": {},
   "outputs": [],
   "source": []
  },
  {
   "cell_type": "code",
   "execution_count": 54,
   "metadata": {
    "ExecuteTime": {
     "end_time": "2020-03-05T10:38:04.241447Z",
     "start_time": "2020-03-05T10:38:04.225697Z"
    }
   },
   "outputs": [],
   "source": [
    "from sklearn.mixture import GaussianMixture"
   ]
  },
  {
   "cell_type": "code",
   "execution_count": 67,
   "metadata": {
    "ExecuteTime": {
     "end_time": "2020-03-05T10:42:28.073149Z",
     "start_time": "2020-03-05T10:42:27.983066Z"
    }
   },
   "outputs": [
    {
     "name": "stdout",
     "output_type": "stream",
     "text": [
      "1 0\n",
      "1 0\n",
      "1 0\n",
      "1 0\n",
      "1 0\n",
      "1 0\n",
      "1 0\n",
      "1 0\n",
      "1 0\n",
      "1 0\n",
      "1 0\n",
      "1 0\n",
      "1 0\n",
      "1 0\n",
      "1 0\n",
      "0 1\n",
      "0 1\n",
      "0 1\n",
      "0 1\n",
      "0 1\n",
      "0 1\n",
      "0 1\n",
      "0 1\n",
      "1 0\n",
      "1 0\n",
      "1 0\n",
      "1 0\n",
      "1 0\n",
      "1 0\n",
      "1 0\n",
      "1 0\n",
      "1 0\n",
      "1 0\n",
      "1 0\n",
      "1 0\n",
      "1 0\n",
      "1 0\n",
      "1 0\n",
      "0 1\n",
      "0 1\n",
      "0 1\n",
      "0 1\n",
      "0 1\n",
      "1 1\n",
      "1 1\n",
      "1 1\n",
      "1 1\n",
      "1 1\n",
      "1 1\n",
      "1 1\n",
      "1 1\n",
      "1 1\n",
      "1 1\n",
      "1 1\n",
      "1 1\n",
      "1 1\n",
      "1 1\n",
      "1 1\n",
      "1 1\n",
      "1 1\n",
      "1 1\n",
      "1 1\n",
      "1 1\n",
      "1 1\n",
      "1 1\n",
      "1 1\n",
      "1 1\n",
      "1 1\n",
      "1 1\n",
      "1 1\n",
      "1 1\n",
      "1 1\n",
      "1 1\n",
      "1 1\n",
      "1 1\n",
      "1 1\n",
      "1 1\n",
      "1 1\n",
      "1 1\n",
      "1 1\n",
      "1 1\n",
      "1 1\n",
      "1 1\n",
      "1 1\n",
      "1 1\n",
      "1 1\n",
      "1 1\n",
      "1 1\n",
      "1 1\n",
      "1 1\n",
      "1 1\n",
      "1 1\n",
      "1 1\n",
      "1 1\n",
      "1 1\n",
      "1 1\n",
      "1 1\n",
      "1 1\n",
      "1 1\n",
      "1 1\n",
      "1 1\n",
      "1 1\n",
      "1 1\n",
      "1 1\n",
      "1 1\n",
      "1 1\n",
      "1 1\n",
      "1 1\n",
      "1 1\n",
      "1 1\n",
      "1 1\n",
      "1 1\n",
      "1 1\n",
      "1 1\n",
      "1 1\n",
      "1 1\n",
      "0 1\n",
      "0 1\n",
      "0 1\n",
      "0 1\n",
      "0 1\n",
      "0 1\n",
      "0 1\n",
      "0 1\n",
      "1 0\n",
      "1 0\n",
      "1 0\n",
      "1 0\n",
      "1 0\n",
      "1 0\n",
      "1 0\n",
      "1 0\n",
      "1 0\n",
      "1 0\n",
      "1 0\n",
      "1 0\n",
      "1 0\n",
      "1 0\n",
      "1 0\n",
      "1 0\n",
      "1 0\n",
      "1 0\n",
      "1 0\n",
      "1 0\n",
      "1 0\n",
      "1 0\n",
      "1 0\n",
      "1 0\n",
      "1 0\n",
      "1 0\n",
      "1 0\n",
      "1 0\n",
      "1 0\n",
      "1 0\n",
      "1 0\n",
      "1 0\n",
      "1 0\n",
      "1 0\n",
      "1 0\n",
      "1 0\n",
      "1 0\n",
      "1 1\n",
      "1 1\n",
      "1 1\n",
      "1 1\n",
      "1 1\n",
      "1 1\n",
      "1 1\n",
      "1 1\n",
      "1 1\n",
      "1 1\n",
      "1 1\n",
      "1 1\n",
      "1 1\n",
      "1 1\n",
      "1 1\n",
      "1 1\n",
      "1 1\n",
      "1 1\n",
      "1 1\n",
      "1 1\n",
      "1 1\n",
      "1 1\n",
      "1 1\n",
      "1 1\n",
      "1 1\n",
      "1 1\n",
      "1 1\n",
      "1 1\n",
      "1 1\n",
      "1 1\n",
      "1 1\n",
      "1 1\n",
      "1 1\n",
      "1 1\n",
      "1 1\n",
      "1 1\n",
      "1 1\n",
      "1 1\n",
      "1 1\n",
      "1 1\n",
      "1 1\n",
      "1 1\n",
      "1 1\n",
      "1 1\n",
      "1 1\n",
      "1 1\n",
      "1 1\n",
      "1 1\n",
      "1 1\n",
      "1 1\n",
      "1 1\n",
      "1 1\n",
      "1 1\n",
      "1 1\n",
      "1 1\n",
      "1 1\n",
      "1 1\n",
      "1 1\n",
      "1 1\n",
      "1 1\n",
      "1 1\n",
      "1 1\n",
      "1 1\n",
      "1 1\n",
      "1 1\n",
      "0 1\n",
      "1 1\n",
      "0 1\n",
      "0 1\n",
      "0 1\n",
      "1 1\n",
      "0 1\n",
      "1 1\n",
      "1 1\n",
      "1 1\n",
      "1 1\n",
      "1 1\n",
      "1 1\n",
      "1 1\n",
      "1 1\n",
      "1 0\n",
      "1 0\n",
      "1 0\n",
      "1 0\n",
      "1 0\n",
      "1 0\n",
      "1 0\n",
      "1 0\n",
      "1 0\n",
      "1 0\n",
      "1 0\n",
      "1 0\n",
      "1 0\n",
      "1 0\n",
      "1 0\n",
      "1 0\n",
      "1 0\n",
      "1 0\n",
      "1 0\n",
      "1 0\n",
      "1 0\n",
      "1 0\n",
      "1 0\n",
      "1 0\n",
      "1 0\n",
      "1 0\n",
      "1 0\n",
      "1 0\n",
      "0 1\n",
      "0 1\n",
      "0 1\n",
      "0 1\n",
      "0 1\n",
      "0 1\n",
      "0 1\n",
      "0 1\n",
      "1 0\n",
      "1 0\n",
      "1 0\n",
      "1 0\n",
      "1 0\n",
      "1 0\n",
      "1 0\n",
      "1 0\n",
      "1 0\n",
      "1 0\n",
      "1 0\n",
      "1 0\n",
      "1 0\n",
      "1 0\n",
      "1 0\n",
      "1 0\n",
      "1 0\n",
      "1 0\n",
      "1 0\n",
      "1 0\n",
      "1 0\n",
      "1 0\n",
      "1 0\n",
      "1 0\n",
      "1 0\n",
      "1 0\n",
      "1 0\n",
      "1 0\n",
      "1 0\n",
      "1 0\n",
      "1 0\n",
      "1 0\n",
      "1 0\n",
      "1 0\n",
      "1 0\n",
      "1 0\n",
      "1 0\n",
      "1 0\n",
      "1 0\n",
      "1 0\n",
      "1 0\n",
      "1 0\n",
      "1 0\n",
      "1 0\n",
      "1 0\n",
      "1 0\n",
      "1 0\n",
      "1 0\n",
      "1 0\n",
      "1 0\n",
      "1 0\n",
      "1 0\n",
      "1 0\n",
      "1 0\n",
      "1 0\n",
      "1 0\n",
      "1 0\n",
      "1 0\n",
      "1 0\n",
      "1 0\n",
      "1 0\n",
      "1 0\n",
      "1 0\n",
      "0 1\n",
      "0 1\n",
      "0 1\n",
      "0 1\n",
      "0 1\n",
      "0 1\n",
      "0 1\n",
      "0 1\n",
      "1 0\n",
      "1 0\n",
      "1 0\n",
      "1 0\n",
      "1 0\n",
      "1 0\n",
      "1 0\n",
      "0 0\n",
      "0 0\n",
      "1 0\n",
      "1 0\n",
      "1 0\n",
      "1 0\n",
      "1 0\n",
      "1 0\n",
      "1 0\n",
      "1 0\n",
      "1 0\n",
      "1 0\n",
      "1 0\n",
      "1 0\n",
      "1 0\n",
      "1 0\n",
      "1 0\n",
      "1 0\n",
      "1 0\n",
      "1 0\n",
      "1 0\n",
      "1 0\n",
      "1 0\n",
      "1 0\n",
      "1 0\n",
      "1 0\n",
      "1 0\n",
      "1 0\n",
      "1 0\n",
      "1 0\n",
      "1 0\n",
      "1 0\n",
      "1 0\n",
      "1 0\n",
      "1 0\n",
      "1 0\n",
      "1 0\n",
      "1 0\n",
      "1 0\n",
      "0 0\n",
      "1 0\n",
      "1 0\n",
      "1 0\n",
      "1 0\n",
      "1 0\n",
      "1 0\n",
      "1 0\n",
      "1 0\n",
      "1 0\n",
      "1 1\n",
      "1 1\n",
      "1 1\n",
      "1 1\n",
      "1 1\n",
      "1 1\n",
      "1 1\n",
      "1 1\n",
      "1 0\n",
      "1 0\n",
      "1 0\n",
      "1 0\n",
      "1 0\n",
      "1 0\n",
      "1 0\n"
     ]
    }
   ],
   "source": [
    "gm = GaussianMixture(n_components=2)\n",
    "predy = gm.fit_predict(subX, suby)\n",
    "\n",
    "for o, e in zip(predy, suby):\n",
    "    print(o, e)"
   ]
  },
  {
   "cell_type": "code",
   "execution_count": null,
   "metadata": {},
   "outputs": [],
   "source": []
  },
  {
   "cell_type": "code",
   "execution_count": null,
   "metadata": {
    "ExecuteTime": {
     "end_time": "2020-03-05T06:13:23.576809Z",
     "start_time": "2020-03-05T05:59:52.971869Z"
    }
   },
   "outputs": [],
   "source": [
    "# KMeans\n",
    "from sklearn.cluster import KMeans, SpectralClustering\n",
    "from sklearn import metrics\n",
    "\n",
    "sils = []\n",
    "chss = []\n",
    "\n",
    "for i in range(2, 20):\n",
    "    km = SpectralClustering(n_clusters=i, random_state=1, affinity='nearest_neighbors')\n",
    "    km.fit(c.X)\n",
    "#     print_unique(km.labels_)\n",
    "    labels = km.labels_\n",
    "    \n",
    "    sil = metrics.silhouette_score(c.X, labels, metric = 'euclidean')\n",
    "    chs = metrics.calinski_harabasz_score(c.X, labels)\n",
    "    \n",
    "    sils.append(sil)\n",
    "    chss.append(chs)\n",
    "    print(i, sil, chs)\n",
    "        "
   ]
  },
  {
   "cell_type": "code",
   "execution_count": 32,
   "metadata": {
    "ExecuteTime": {
     "end_time": "2020-03-05T05:56:36.343292Z",
     "start_time": "2020-03-05T05:56:36.340120Z"
    }
   },
   "outputs": [
    {
     "data": {
      "text/plain": [
       "1.6296415600415823"
      ]
     },
     "execution_count": 32,
     "metadata": {},
     "output_type": "execute_result"
    }
   ],
   "source": [
    "km.inertia_"
   ]
  },
  {
   "cell_type": "code",
   "execution_count": 34,
   "metadata": {
    "ExecuteTime": {
     "end_time": "2020-03-05T07:20:22.326510Z",
     "start_time": "2020-03-05T07:20:22.194766Z"
    }
   },
   "outputs": [
    {
     "data": {
      "text/plain": [
       "[<matplotlib.lines.Line2D at 0x7f61e00ee2d0>]"
      ]
     },
     "execution_count": 34,
     "metadata": {},
     "output_type": "execute_result"
    },
    {
     "data": {
      "image/png": "[encoded data removed]",
      "text/plain": [
       "<Figure size 432x288 with 1 Axes>"
      ]
     },
     "metadata": {
      "needs_background": "light"
     },
     "output_type": "display_data"
    }
   ],
   "source": [
    "plt.plot(sils, label=\"sils\")"
   ]
  },
  {
   "cell_type": "code",
   "execution_count": 35,
   "metadata": {
    "ExecuteTime": {
     "end_time": "2020-03-05T07:20:28.183519Z",
     "start_time": "2020-03-05T07:20:28.048311Z"
    }
   },
   "outputs": [
    {
     "data": {
      "text/plain": [
       "[<matplotlib.lines.Line2D at 0x7f61e00d5810>]"
      ]
     },
     "execution_count": 35,
     "metadata": {},
     "output_type": "execute_result"
    },
    {
     "data": {
      "image/png": "[encoded data removed]",
      "text/plain": [
       "<Figure size 432x288 with 1 Axes>"
      ]
     },
     "metadata": {
      "needs_background": "light"
     },
     "output_type": "display_data"
    }
   ],
   "source": [
    "plt.plot(chss, label=\"chss\")"
   ]
  },
  {
   "cell_type": "code",
   "execution_count": null,
   "metadata": {
    "ExecuteTime": {
     "end_time": "2020-03-05T05:31:25.745265Z",
     "start_time": "2020-03-05T05:31:25.720947Z"
    }
   },
   "outputs": [],
   "source": []
  },
  {
   "cell_type": "code",
   "execution_count": 4,
   "metadata": {
    "ExecuteTime": {
     "end_time": "2020-02-12T10:49:37.766786Z",
     "start_time": "2020-02-12T10:49:37.755876Z"
    }
   },
   "outputs": [],
   "source": [
    "# Histogram names to be trained\n",
    "cipxl = [\"chargeInner_PXLayer_1\", \"chargeInner_PXLayer_2\", \"chargeInner_PXLayer_3\", \"chargeInner_PXLayer_4\"]\n",
    "copxl = [\"chargeOuter_PXLayer_1\", \"chargeOuter_PXLayer_2\", \"chargeOuter_PXLayer_3\", \"chargeOuter_PXLayer_4\"]\n",
    "spxl = [\"size_PXLayer_1\", \"size_PXLayer_2\", \"size_PXLayer_3\", \"size_PXLayer_4\"]\n",
    "spxd = [\"size_PXDisk_-3\", \"size_PXDisk_-2\", \"size_PXDisk_-1\", \"size_PXDisk_+1\", \"size_PXDisk_+2\", \"size_PXDisk_+3\"]\n",
    "cpxd = [\"charge_PXDisk_-3\", \"charge_PXDisk_-2\", \"charge_PXDisk_-1\", \"charge_PXDisk_+1\", \"charge_PXDisk_+2\", \"charge_PXDisk_+3\"]\n",
    "\n",
    "hnames = cipxl + copxl + spxl + spxd + cpxd\n",
    "hnames = [\"chargeInner_PXLayer_1\"]"
   ]
  },
  {
   "cell_type": "code",
   "execution_count": 6,
   "metadata": {
    "ExecuteTime": {
     "end_time": "2020-02-02T09:48:03.442036Z",
     "start_time": "2020-02-02T09:44:22.421333Z"
    }
   },
   "outputs": [
    {
     "name": "stdout",
     "output_type": "stream",
     "text": [
      "1 / 24 chargeInner_PXLayer_1\n",
      "(28335, 120)\n",
      "(27208, 120)\n",
      "Mean ACC 0.987 std 0.002\n",
      "Mean AUC 0.976 std 0.006\n",
      "\n",
      "2 / 24 chargeInner_PXLayer_2\n",
      "(28335, 120)\n",
      "(27208, 120)\n",
      "Mean ACC 0.986 std 0.002\n",
      "Mean AUC 0.958 std 0.009\n",
      "\n",
      "3 / 24 chargeInner_PXLayer_3\n",
      "(28335, 120)\n",
      "(27208, 120)\n",
      "Mean ACC 0.964 std 0.003\n",
      "Mean AUC 0.829 std 0.018\n",
      "\n",
      "4 / 24 chargeInner_PXLayer_4\n",
      "(28335, 120)\n",
      "(27208, 120)\n",
      "Mean ACC 0.965 std 0.003\n",
      "Mean AUC 0.788 std 0.03\n",
      "\n",
      "5 / 24 chargeOuter_PXLayer_1\n",
      "(28335, 120)\n",
      "(27208, 120)\n",
      "Mean ACC 0.986 std 0.002\n",
      "Mean AUC 0.974 std 0.008\n",
      "\n",
      "6 / 24 chargeOuter_PXLayer_2\n",
      "(28335, 120)\n",
      "(27208, 120)\n",
      "Mean ACC 0.986 std 0.002\n",
      "Mean AUC 0.96 std 0.013\n",
      "\n",
      "7 / 24 chargeOuter_PXLayer_3\n",
      "(28335, 120)\n",
      "(27208, 120)\n",
      "Mean ACC 0.964 std 0.001\n",
      "Mean AUC 0.811 std 0.026\n",
      "\n",
      "8 / 24 chargeOuter_PXLayer_4\n",
      "(28335, 120)\n",
      "(27208, 120)\n",
      "Mean ACC 0.965 std 0.002\n",
      "Mean AUC 0.785 std 0.02\n",
      "\n",
      "9 / 24 size_PXLayer_1\n",
      "(28335, 50)\n",
      "(27208, 50)\n",
      "Mean ACC 0.991 std 0.002\n",
      "Mean AUC 0.988 std 0.005\n",
      "\n",
      "10 / 24 size_PXLayer_2\n",
      "(28335, 50)\n",
      "(27208, 50)\n",
      "Mean ACC 0.981 std 0.002\n",
      "Mean AUC 0.907 std 0.013\n",
      "\n",
      "11 / 24 size_PXLayer_3\n",
      "(28335, 50)\n",
      "(27208, 50)\n",
      "Mean ACC 0.97 std 0.003\n",
      "Mean AUC 0.845 std 0.017\n",
      "\n",
      "12 / 24 size_PXLayer_4\n",
      "(28335, 50)\n",
      "(27208, 50)\n",
      "Mean ACC 0.967 std 0.003\n",
      "Mean AUC 0.811 std 0.028\n",
      "\n",
      "13 / 24 size_PXDisk_-3\n",
      "(28335, 50)\n",
      "(27208, 50)\n",
      "Mean ACC 0.957 std 0.002\n",
      "Mean AUC 0.814 std 0.022\n",
      "\n",
      "14 / 24 size_PXDisk_-2\n",
      "(28335, 50)\n",
      "(27208, 50)\n",
      "Mean ACC 0.956 std 0.002\n",
      "Mean AUC 0.796 std 0.02\n",
      "\n",
      "15 / 24 size_PXDisk_-1\n",
      "(28335, 50)\n",
      "(27208, 50)\n",
      "Mean ACC 0.962 std 0.003\n",
      "Mean AUC 0.845 std 0.017\n",
      "\n",
      "16 / 24 size_PXDisk_+1\n",
      "(28335, 50)\n",
      "(27208, 50)\n",
      "Mean ACC 0.961 std 0.002\n",
      "Mean AUC 0.852 std 0.022\n",
      "\n",
      "17 / 24 size_PXDisk_+2\n",
      "(28335, 50)\n",
      "(27208, 50)\n",
      "Mean ACC 0.96 std 0.002\n",
      "Mean AUC 0.832 std 0.022\n",
      "\n",
      "18 / 24 size_PXDisk_+3\n",
      "(28335, 50)\n",
      "(27208, 50)\n",
      "Mean ACC 0.958 std 0.003\n",
      "Mean AUC 0.808 std 0.03\n",
      "\n",
      "19 / 24 charge_PXDisk_-3\n",
      "(28335, 120)\n",
      "(27208, 120)\n",
      "Mean ACC 0.966 std 0.001\n",
      "Mean AUC 0.861 std 0.024\n",
      "\n",
      "20 / 24 charge_PXDisk_-2\n",
      "(28335, 120)\n",
      "(27208, 120)\n",
      "Mean ACC 0.968 std 0.002\n",
      "Mean AUC 0.864 std 0.017\n",
      "\n",
      "21 / 24 charge_PXDisk_-1\n",
      "(28335, 120)\n",
      "(27208, 120)\n",
      "Mean ACC 0.976 std 0.002\n",
      "Mean AUC 0.906 std 0.019\n",
      "\n",
      "22 / 24 charge_PXDisk_+1\n",
      "(28335, 120)\n",
      "(27208, 120)\n",
      "Mean ACC 0.969 std 0.002\n",
      "Mean AUC 0.888 std 0.019\n",
      "\n",
      "23 / 24 charge_PXDisk_+2\n",
      "(28335, 120)\n",
      "(27208, 120)\n",
      "Mean ACC 0.969 std 0.003\n",
      "Mean AUC 0.859 std 0.031\n",
      "\n",
      "24 / 24 charge_PXDisk_+3\n",
      "(28335, 120)\n",
      "(27208, 120)\n",
      "Mean ACC 0.969 std 0.002\n",
      "Mean AUC 0.859 std 0.017\n",
      "\n"
     ]
    }
   ],
   "source": [
    "results = {}\n",
    "\n",
    "for index, hname in enumerate(hnames):\n",
    "    print(index+1, \"/\", len(hnames), hname)\n",
    "    \n",
    "    filename = \"/home/mantydze/data/ZeroBias2017B/massaged/{hname}.csv\".format(hname=hname)\n",
    "    \n",
    "    rft = RandomForestTrain()\n",
    "    rft.load_data(filename)\n",
    "    rft.train_eval(verbose=False)\n"
   ]
  },
  {
   "cell_type": "code",
   "execution_count": 7,
   "metadata": {
    "ExecuteTime": {
     "end_time": "2020-02-02T09:48:03.460063Z",
     "start_time": "2020-02-02T09:48:03.448784Z"
    }
   },
   "outputs": [],
   "source": [
    "df = pd.DataFrame.from_dict(results, orient='index')"
   ]
  },
  {
   "cell_type": "code",
   "execution_count": 8,
   "metadata": {
    "ExecuteTime": {
     "end_time": "2020-02-02T09:48:03.589529Z",
     "start_time": "2020-02-02T09:48:03.468459Z"
    }
   },
   "outputs": [
    {
     "data": {
      "text/html": [
       "<div>\n",
       "<style scoped>\n",
       "    .dataframe tbody tr th:only-of-type {\n",
       "        vertical-align: middle;\n",
       "    }\n",
       "\n",
       "    .dataframe tbody tr th {\n",
       "        vertical-align: top;\n",
       "    }\n",
       "\n",
       "    .dataframe thead th {\n",
       "        text-align: right;\n",
       "    }\n",
       "</style>\n",
       "<table border=\"1\" class=\"dataframe\">\n",
       "  <thead>\n",
       "    <tr style=\"text-align: right;\">\n",
       "      <th></th>\n",
       "      <th>accs</th>\n",
       "      <th>aucs</th>\n",
       "      <th>acc_mean</th>\n",
       "      <th>acc_std</th>\n",
       "      <th>auc_mean</th>\n",
       "      <th>auc_std</th>\n",
       "    </tr>\n",
       "  </thead>\n",
       "  <tbody>\n",
       "    <tr>\n",
       "      <td>chargeInner_PXLayer_1</td>\n",
       "      <td>[0.983, 0.989, 0.987, 0.988, 0.988, 0.992, 0.9...</td>\n",
       "      <td>[0.962, 0.979, 0.975, 0.983, 0.982, 0.98, 0.97...</td>\n",
       "      <td>0.987</td>\n",
       "      <td>0.002</td>\n",
       "      <td>0.976</td>\n",
       "      <td>0.006</td>\n",
       "    </tr>\n",
       "    <tr>\n",
       "      <td>chargeInner_PXLayer_2</td>\n",
       "      <td>[0.986, 0.984, 0.983, 0.987, 0.985, 0.989, 0.9...</td>\n",
       "      <td>[0.957, 0.952, 0.957, 0.962, 0.971, 0.965, 0.9...</td>\n",
       "      <td>0.986</td>\n",
       "      <td>0.002</td>\n",
       "      <td>0.958</td>\n",
       "      <td>0.009</td>\n",
       "    </tr>\n",
       "    <tr>\n",
       "      <td>chargeInner_PXLayer_3</td>\n",
       "      <td>[0.965, 0.966, 0.969, 0.963, 0.964, 0.957, 0.9...</td>\n",
       "      <td>[0.834, 0.847, 0.854, 0.862, 0.825, 0.811, 0.8...</td>\n",
       "      <td>0.964</td>\n",
       "      <td>0.003</td>\n",
       "      <td>0.829</td>\n",
       "      <td>0.018</td>\n",
       "    </tr>\n",
       "    <tr>\n",
       "      <td>chargeInner_PXLayer_4</td>\n",
       "      <td>[0.96, 0.964, 0.967, 0.963, 0.964, 0.968, 0.96...</td>\n",
       "      <td>[0.742, 0.787, 0.815, 0.759, 0.759, 0.802, 0.7...</td>\n",
       "      <td>0.965</td>\n",
       "      <td>0.003</td>\n",
       "      <td>0.788</td>\n",
       "      <td>0.030</td>\n",
       "    </tr>\n",
       "    <tr>\n",
       "      <td>chargeOuter_PXLayer_1</td>\n",
       "      <td>[0.985, 0.985, 0.984, 0.989, 0.985, 0.985, 0.9...</td>\n",
       "      <td>[0.984, 0.971, 0.965, 0.981, 0.962, 0.968, 0.9...</td>\n",
       "      <td>0.986</td>\n",
       "      <td>0.002</td>\n",
       "      <td>0.974</td>\n",
       "      <td>0.008</td>\n",
       "    </tr>\n",
       "    <tr>\n",
       "      <td>chargeOuter_PXLayer_2</td>\n",
       "      <td>[0.984, 0.985, 0.986, 0.984, 0.985, 0.99, 0.98...</td>\n",
       "      <td>[0.953, 0.963, 0.967, 0.946, 0.935, 0.974, 0.9...</td>\n",
       "      <td>0.986</td>\n",
       "      <td>0.002</td>\n",
       "      <td>0.960</td>\n",
       "      <td>0.013</td>\n",
       "    </tr>\n",
       "    <tr>\n",
       "      <td>chargeOuter_PXLayer_3</td>\n",
       "      <td>[0.961, 0.963, 0.964, 0.963, 0.964, 0.965, 0.9...</td>\n",
       "      <td>[0.816, 0.845, 0.865, 0.821, 0.779, 0.776, 0.8...</td>\n",
       "      <td>0.964</td>\n",
       "      <td>0.001</td>\n",
       "      <td>0.811</td>\n",
       "      <td>0.026</td>\n",
       "    </tr>\n",
       "    <tr>\n",
       "      <td>chargeOuter_PXLayer_4</td>\n",
       "      <td>[0.963, 0.964, 0.964, 0.965, 0.965, 0.966, 0.9...</td>\n",
       "      <td>[0.804, 0.735, 0.773, 0.799, 0.795, 0.779, 0.7...</td>\n",
       "      <td>0.965</td>\n",
       "      <td>0.002</td>\n",
       "      <td>0.785</td>\n",
       "      <td>0.020</td>\n",
       "    </tr>\n",
       "    <tr>\n",
       "      <td>size_PXLayer_1</td>\n",
       "      <td>[0.992, 0.993, 0.992, 0.994, 0.99, 0.988, 0.99...</td>\n",
       "      <td>[0.995, 0.986, 0.986, 0.991, 0.989, 0.98, 0.98...</td>\n",
       "      <td>0.991</td>\n",
       "      <td>0.002</td>\n",
       "      <td>0.988</td>\n",
       "      <td>0.005</td>\n",
       "    </tr>\n",
       "    <tr>\n",
       "      <td>size_PXLayer_2</td>\n",
       "      <td>[0.982, 0.98, 0.986, 0.979, 0.979, 0.982, 0.97...</td>\n",
       "      <td>[0.914, 0.894, 0.921, 0.904, 0.887, 0.914, 0.8...</td>\n",
       "      <td>0.981</td>\n",
       "      <td>0.002</td>\n",
       "      <td>0.907</td>\n",
       "      <td>0.013</td>\n",
       "    </tr>\n",
       "    <tr>\n",
       "      <td>size_PXLayer_3</td>\n",
       "      <td>[0.97, 0.968, 0.968, 0.972, 0.967, 0.975, 0.96...</td>\n",
       "      <td>[0.837, 0.858, 0.821, 0.876, 0.836, 0.863, 0.8...</td>\n",
       "      <td>0.970</td>\n",
       "      <td>0.003</td>\n",
       "      <td>0.845</td>\n",
       "      <td>0.017</td>\n",
       "    </tr>\n",
       "    <tr>\n",
       "      <td>size_PXLayer_4</td>\n",
       "      <td>[0.966, 0.965, 0.961, 0.969, 0.967, 0.966, 0.9...</td>\n",
       "      <td>[0.753, 0.803, 0.798, 0.796, 0.819, 0.8, 0.819...</td>\n",
       "      <td>0.967</td>\n",
       "      <td>0.003</td>\n",
       "      <td>0.811</td>\n",
       "      <td>0.028</td>\n",
       "    </tr>\n",
       "    <tr>\n",
       "      <td>size_PXDisk_-3</td>\n",
       "      <td>[0.961, 0.952, 0.959, 0.957, 0.957, 0.957, 0.9...</td>\n",
       "      <td>[0.842, 0.771, 0.831, 0.812, 0.822, 0.812, 0.8...</td>\n",
       "      <td>0.957</td>\n",
       "      <td>0.002</td>\n",
       "      <td>0.814</td>\n",
       "      <td>0.022</td>\n",
       "    </tr>\n",
       "    <tr>\n",
       "      <td>size_PXDisk_-2</td>\n",
       "      <td>[0.954, 0.958, 0.955, 0.957, 0.953, 0.955, 0.9...</td>\n",
       "      <td>[0.818, 0.829, 0.798, 0.779, 0.771, 0.776, 0.7...</td>\n",
       "      <td>0.956</td>\n",
       "      <td>0.002</td>\n",
       "      <td>0.796</td>\n",
       "      <td>0.020</td>\n",
       "    </tr>\n",
       "    <tr>\n",
       "      <td>size_PXDisk_-1</td>\n",
       "      <td>[0.968, 0.959, 0.96, 0.966, 0.958, 0.962, 0.96...</td>\n",
       "      <td>[0.866, 0.832, 0.842, 0.837, 0.842, 0.847, 0.8...</td>\n",
       "      <td>0.962</td>\n",
       "      <td>0.003</td>\n",
       "      <td>0.845</td>\n",
       "      <td>0.017</td>\n",
       "    </tr>\n",
       "    <tr>\n",
       "      <td>size_PXDisk_+1</td>\n",
       "      <td>[0.96, 0.96, 0.964, 0.96, 0.961, 0.958, 0.957,...</td>\n",
       "      <td>[0.875, 0.854, 0.872, 0.831, 0.882, 0.859, 0.8...</td>\n",
       "      <td>0.961</td>\n",
       "      <td>0.002</td>\n",
       "      <td>0.852</td>\n",
       "      <td>0.022</td>\n",
       "    </tr>\n",
       "    <tr>\n",
       "      <td>size_PXDisk_+2</td>\n",
       "      <td>[0.958, 0.958, 0.957, 0.963, 0.957, 0.959, 0.9...</td>\n",
       "      <td>[0.863, 0.822, 0.821, 0.823, 0.83, 0.82, 0.843...</td>\n",
       "      <td>0.960</td>\n",
       "      <td>0.002</td>\n",
       "      <td>0.832</td>\n",
       "      <td>0.022</td>\n",
       "    </tr>\n",
       "    <tr>\n",
       "      <td>size_PXDisk_+3</td>\n",
       "      <td>[0.965, 0.957, 0.954, 0.959, 0.957, 0.954, 0.9...</td>\n",
       "      <td>[0.86, 0.817, 0.83, 0.814, 0.797, 0.78, 0.797,...</td>\n",
       "      <td>0.958</td>\n",
       "      <td>0.003</td>\n",
       "      <td>0.808</td>\n",
       "      <td>0.030</td>\n",
       "    </tr>\n",
       "    <tr>\n",
       "      <td>charge_PXDisk_-3</td>\n",
       "      <td>[0.964, 0.964, 0.967, 0.967, 0.967, 0.965, 0.9...</td>\n",
       "      <td>[0.864, 0.82, 0.862, 0.864, 0.891, 0.872, 0.83...</td>\n",
       "      <td>0.966</td>\n",
       "      <td>0.001</td>\n",
       "      <td>0.861</td>\n",
       "      <td>0.024</td>\n",
       "    </tr>\n",
       "    <tr>\n",
       "      <td>charge_PXDisk_-2</td>\n",
       "      <td>[0.966, 0.971, 0.967, 0.971, 0.968, 0.965, 0.9...</td>\n",
       "      <td>[0.868, 0.89, 0.848, 0.868, 0.851, 0.839, 0.88...</td>\n",
       "      <td>0.968</td>\n",
       "      <td>0.002</td>\n",
       "      <td>0.864</td>\n",
       "      <td>0.017</td>\n",
       "    </tr>\n",
       "    <tr>\n",
       "      <td>charge_PXDisk_-1</td>\n",
       "      <td>[0.98, 0.974, 0.976, 0.976, 0.975, 0.974, 0.97...</td>\n",
       "      <td>[0.933, 0.894, 0.919, 0.909, 0.885, 0.905, 0.9...</td>\n",
       "      <td>0.976</td>\n",
       "      <td>0.002</td>\n",
       "      <td>0.906</td>\n",
       "      <td>0.019</td>\n",
       "    </tr>\n",
       "    <tr>\n",
       "      <td>charge_PXDisk_+1</td>\n",
       "      <td>[0.969, 0.972, 0.966, 0.969, 0.969, 0.972, 0.9...</td>\n",
       "      <td>[0.859, 0.867, 0.877, 0.905, 0.882, 0.893, 0.9...</td>\n",
       "      <td>0.969</td>\n",
       "      <td>0.002</td>\n",
       "      <td>0.888</td>\n",
       "      <td>0.019</td>\n",
       "    </tr>\n",
       "    <tr>\n",
       "      <td>charge_PXDisk_+2</td>\n",
       "      <td>[0.97, 0.968, 0.975, 0.966, 0.973, 0.967, 0.97...</td>\n",
       "      <td>[0.867, 0.825, 0.9, 0.817, 0.9, 0.82, 0.889, 0...</td>\n",
       "      <td>0.969</td>\n",
       "      <td>0.003</td>\n",
       "      <td>0.859</td>\n",
       "      <td>0.031</td>\n",
       "    </tr>\n",
       "    <tr>\n",
       "      <td>charge_PXDisk_+3</td>\n",
       "      <td>[0.969, 0.967, 0.968, 0.97, 0.973, 0.969, 0.96...</td>\n",
       "      <td>[0.878, 0.838, 0.869, 0.892, 0.858, 0.863, 0.8...</td>\n",
       "      <td>0.969</td>\n",
       "      <td>0.002</td>\n",
       "      <td>0.859</td>\n",
       "      <td>0.017</td>\n",
       "    </tr>\n",
       "  </tbody>\n",
       "</table>\n",
       "</div>"
      ],
      "text/plain": [
       "                                                                    accs  \\\n",
       "chargeInner_PXLayer_1  [0.983, 0.989, 0.987, 0.988, 0.988, 0.992, 0.9...   \n",
       "chargeInner_PXLayer_2  [0.986, 0.984, 0.983, 0.987, 0.985, 0.989, 0.9...   \n",
       "chargeInner_PXLayer_3  [0.965, 0.966, 0.969, 0.963, 0.964, 0.957, 0.9...   \n",
       "chargeInner_PXLayer_4  [0.96, 0.964, 0.967, 0.963, 0.964, 0.968, 0.96...   \n",
       "chargeOuter_PXLayer_1  [0.985, 0.985, 0.984, 0.989, 0.985, 0.985, 0.9...   \n",
       "chargeOuter_PXLayer_2  [0.984, 0.985, 0.986, 0.984, 0.985, 0.99, 0.98...   \n",
       "chargeOuter_PXLayer_3  [0.961, 0.963, 0.964, 0.963, 0.964, 0.965, 0.9...   \n",
       "chargeOuter_PXLayer_4  [0.963, 0.964, 0.964, 0.965, 0.965, 0.966, 0.9...   \n",
       "size_PXLayer_1         [0.992, 0.993, 0.992, 0.994, 0.99, 0.988, 0.99...   \n",
       "size_PXLayer_2         [0.982, 0.98, 0.986, 0.979, 0.979, 0.982, 0.97...   \n",
       "size_PXLayer_3         [0.97, 0.968, 0.968, 0.972, 0.967, 0.975, 0.96...   \n",
       "size_PXLayer_4         [0.966, 0.965, 0.961, 0.969, 0.967, 0.966, 0.9...   \n",
       "size_PXDisk_-3         [0.961, 0.952, 0.959, 0.957, 0.957, 0.957, 0.9...   \n",
       "size_PXDisk_-2         [0.954, 0.958, 0.955, 0.957, 0.953, 0.955, 0.9...   \n",
       "size_PXDisk_-1         [0.968, 0.959, 0.96, 0.966, 0.958, 0.962, 0.96...   \n",
       "size_PXDisk_+1         [0.96, 0.96, 0.964, 0.96, 0.961, 0.958, 0.957,...   \n",
       "size_PXDisk_+2         [0.958, 0.958, 0.957, 0.963, 0.957, 0.959, 0.9...   \n",
       "size_PXDisk_+3         [0.965, 0.957, 0.954, 0.959, 0.957, 0.954, 0.9...   \n",
       "charge_PXDisk_-3       [0.964, 0.964, 0.967, 0.967, 0.967, 0.965, 0.9...   \n",
       "charge_PXDisk_-2       [0.966, 0.971, 0.967, 0.971, 0.968, 0.965, 0.9...   \n",
       "charge_PXDisk_-1       [0.98, 0.974, 0.976, 0.976, 0.975, 0.974, 0.97...   \n",
       "charge_PXDisk_+1       [0.969, 0.972, 0.966, 0.969, 0.969, 0.972, 0.9...   \n",
       "charge_PXDisk_+2       [0.97, 0.968, 0.975, 0.966, 0.973, 0.967, 0.97...   \n",
       "charge_PXDisk_+3       [0.969, 0.967, 0.968, 0.97, 0.973, 0.969, 0.96...   \n",
       "\n",
       "                                                                    aucs  \\\n",
       "chargeInner_PXLayer_1  [0.962, 0.979, 0.975, 0.983, 0.982, 0.98, 0.97...   \n",
       "chargeInner_PXLayer_2  [0.957, 0.952, 0.957, 0.962, 0.971, 0.965, 0.9...   \n",
       "chargeInner_PXLayer_3  [0.834, 0.847, 0.854, 0.862, 0.825, 0.811, 0.8...   \n",
       "chargeInner_PXLayer_4  [0.742, 0.787, 0.815, 0.759, 0.759, 0.802, 0.7...   \n",
       "chargeOuter_PXLayer_1  [0.984, 0.971, 0.965, 0.981, 0.962, 0.968, 0.9...   \n",
       "chargeOuter_PXLayer_2  [0.953, 0.963, 0.967, 0.946, 0.935, 0.974, 0.9...   \n",
       "chargeOuter_PXLayer_3  [0.816, 0.845, 0.865, 0.821, 0.779, 0.776, 0.8...   \n",
       "chargeOuter_PXLayer_4  [0.804, 0.735, 0.773, 0.799, 0.795, 0.779, 0.7...   \n",
       "size_PXLayer_1         [0.995, 0.986, 0.986, 0.991, 0.989, 0.98, 0.98...   \n",
       "size_PXLayer_2         [0.914, 0.894, 0.921, 0.904, 0.887, 0.914, 0.8...   \n",
       "size_PXLayer_3         [0.837, 0.858, 0.821, 0.876, 0.836, 0.863, 0.8...   \n",
       "size_PXLayer_4         [0.753, 0.803, 0.798, 0.796, 0.819, 0.8, 0.819...   \n",
       "size_PXDisk_-3         [0.842, 0.771, 0.831, 0.812, 0.822, 0.812, 0.8...   \n",
       "size_PXDisk_-2         [0.818, 0.829, 0.798, 0.779, 0.771, 0.776, 0.7...   \n",
       "size_PXDisk_-1         [0.866, 0.832, 0.842, 0.837, 0.842, 0.847, 0.8...   \n",
       "size_PXDisk_+1         [0.875, 0.854, 0.872, 0.831, 0.882, 0.859, 0.8...   \n",
       "size_PXDisk_+2         [0.863, 0.822, 0.821, 0.823, 0.83, 0.82, 0.843...   \n",
       "size_PXDisk_+3         [0.86, 0.817, 0.83, 0.814, 0.797, 0.78, 0.797,...   \n",
       "charge_PXDisk_-3       [0.864, 0.82, 0.862, 0.864, 0.891, 0.872, 0.83...   \n",
       "charge_PXDisk_-2       [0.868, 0.89, 0.848, 0.868, 0.851, 0.839, 0.88...   \n",
       "charge_PXDisk_-1       [0.933, 0.894, 0.919, 0.909, 0.885, 0.905, 0.9...   \n",
       "charge_PXDisk_+1       [0.859, 0.867, 0.877, 0.905, 0.882, 0.893, 0.9...   \n",
       "charge_PXDisk_+2       [0.867, 0.825, 0.9, 0.817, 0.9, 0.82, 0.889, 0...   \n",
       "charge_PXDisk_+3       [0.878, 0.838, 0.869, 0.892, 0.858, 0.863, 0.8...   \n",
       "\n",
       "                       acc_mean  acc_std  auc_mean  auc_std  \n",
       "chargeInner_PXLayer_1     0.987    0.002     0.976    0.006  \n",
       "chargeInner_PXLayer_2     0.986    0.002     0.958    0.009  \n",
       "chargeInner_PXLayer_3     0.964    0.003     0.829    0.018  \n",
       "chargeInner_PXLayer_4     0.965    0.003     0.788    0.030  \n",
       "chargeOuter_PXLayer_1     0.986    0.002     0.974    0.008  \n",
       "chargeOuter_PXLayer_2     0.986    0.002     0.960    0.013  \n",
       "chargeOuter_PXLayer_3     0.964    0.001     0.811    0.026  \n",
       "chargeOuter_PXLayer_4     0.965    0.002     0.785    0.020  \n",
       "size_PXLayer_1            0.991    0.002     0.988    0.005  \n",
       "size_PXLayer_2            0.981    0.002     0.907    0.013  \n",
       "size_PXLayer_3            0.970    0.003     0.845    0.017  \n",
       "size_PXLayer_4            0.967    0.003     0.811    0.028  \n",
       "size_PXDisk_-3            0.957    0.002     0.814    0.022  \n",
       "size_PXDisk_-2            0.956    0.002     0.796    0.020  \n",
       "size_PXDisk_-1            0.962    0.003     0.845    0.017  \n",
       "size_PXDisk_+1            0.961    0.002     0.852    0.022  \n",
       "size_PXDisk_+2            0.960    0.002     0.832    0.022  \n",
       "size_PXDisk_+3            0.958    0.003     0.808    0.030  \n",
       "charge_PXDisk_-3          0.966    0.001     0.861    0.024  \n",
       "charge_PXDisk_-2          0.968    0.002     0.864    0.017  \n",
       "charge_PXDisk_-1          0.976    0.002     0.906    0.019  \n",
       "charge_PXDisk_+1          0.969    0.002     0.888    0.019  \n",
       "charge_PXDisk_+2          0.969    0.003     0.859    0.031  \n",
       "charge_PXDisk_+3          0.969    0.002     0.859    0.017  "
      ]
     },
     "execution_count": 8,
     "metadata": {},
     "output_type": "execute_result"
    }
   ],
   "source": [
    "df"
   ]
  },
  {
   "cell_type": "code",
   "execution_count": 9,
   "metadata": {
    "ExecuteTime": {
     "end_time": "2020-02-02T09:48:47.588376Z",
     "start_time": "2020-02-02T09:48:47.552242Z"
    }
   },
   "outputs": [
    {
     "data": {
      "text/plain": [
       "{'chargeInner_PXLayer_1': {'accs': [0.983,\n",
       "   0.989,\n",
       "   0.987,\n",
       "   0.988,\n",
       "   0.988,\n",
       "   0.992,\n",
       "   0.985,\n",
       "   0.986,\n",
       "   0.989,\n",
       "   0.987],\n",
       "  'aucs': [0.962, 0.979, 0.975, 0.983, 0.982, 0.98, 0.978, 0.976, 0.979, 0.97],\n",
       "  'acc_mean': 0.987,\n",
       "  'acc_std': 0.002,\n",
       "  'auc_mean': 0.976,\n",
       "  'auc_std': 0.006},\n",
       " 'chargeInner_PXLayer_2': {'accs': [0.986,\n",
       "   0.984,\n",
       "   0.983,\n",
       "   0.987,\n",
       "   0.985,\n",
       "   0.989,\n",
       "   0.988,\n",
       "   0.984,\n",
       "   0.99,\n",
       "   0.988],\n",
       "  'aucs': [0.957,\n",
       "   0.952,\n",
       "   0.957,\n",
       "   0.962,\n",
       "   0.971,\n",
       "   0.965,\n",
       "   0.965,\n",
       "   0.939,\n",
       "   0.962,\n",
       "   0.948],\n",
       "  'acc_mean': 0.986,\n",
       "  'acc_std': 0.002,\n",
       "  'auc_mean': 0.958,\n",
       "  'auc_std': 0.009},\n",
       " 'chargeInner_PXLayer_3': {'accs': [0.965,\n",
       "   0.966,\n",
       "   0.969,\n",
       "   0.963,\n",
       "   0.964,\n",
       "   0.957,\n",
       "   0.964,\n",
       "   0.968,\n",
       "   0.965,\n",
       "   0.962],\n",
       "  'aucs': [0.834,\n",
       "   0.847,\n",
       "   0.854,\n",
       "   0.862,\n",
       "   0.825,\n",
       "   0.811,\n",
       "   0.808,\n",
       "   0.819,\n",
       "   0.824,\n",
       "   0.81],\n",
       "  'acc_mean': 0.964,\n",
       "  'acc_std': 0.003,\n",
       "  'auc_mean': 0.829,\n",
       "  'auc_std': 0.018},\n",
       " 'chargeInner_PXLayer_4': {'accs': [0.96,\n",
       "   0.964,\n",
       "   0.967,\n",
       "   0.963,\n",
       "   0.964,\n",
       "   0.968,\n",
       "   0.963,\n",
       "   0.969,\n",
       "   0.967,\n",
       "   0.966],\n",
       "  'aucs': [0.742,\n",
       "   0.787,\n",
       "   0.815,\n",
       "   0.759,\n",
       "   0.759,\n",
       "   0.802,\n",
       "   0.758,\n",
       "   0.801,\n",
       "   0.82,\n",
       "   0.836],\n",
       "  'acc_mean': 0.965,\n",
       "  'acc_std': 0.003,\n",
       "  'auc_mean': 0.788,\n",
       "  'auc_std': 0.03},\n",
       " 'chargeOuter_PXLayer_1': {'accs': [0.985,\n",
       "   0.985,\n",
       "   0.984,\n",
       "   0.989,\n",
       "   0.985,\n",
       "   0.985,\n",
       "   0.985,\n",
       "   0.991,\n",
       "   0.984,\n",
       "   0.985],\n",
       "  'aucs': [0.984,\n",
       "   0.971,\n",
       "   0.965,\n",
       "   0.981,\n",
       "   0.962,\n",
       "   0.968,\n",
       "   0.977,\n",
       "   0.987,\n",
       "   0.97,\n",
       "   0.973],\n",
       "  'acc_mean': 0.986,\n",
       "  'acc_std': 0.002,\n",
       "  'auc_mean': 0.974,\n",
       "  'auc_std': 0.008},\n",
       " 'chargeOuter_PXLayer_2': {'accs': [0.984,\n",
       "   0.985,\n",
       "   0.986,\n",
       "   0.984,\n",
       "   0.985,\n",
       "   0.99,\n",
       "   0.987,\n",
       "   0.988,\n",
       "   0.989,\n",
       "   0.986],\n",
       "  'aucs': [0.953,\n",
       "   0.963,\n",
       "   0.967,\n",
       "   0.946,\n",
       "   0.935,\n",
       "   0.974,\n",
       "   0.955,\n",
       "   0.96,\n",
       "   0.981,\n",
       "   0.963],\n",
       "  'acc_mean': 0.986,\n",
       "  'acc_std': 0.002,\n",
       "  'auc_mean': 0.96,\n",
       "  'auc_std': 0.013},\n",
       " 'chargeOuter_PXLayer_3': {'accs': [0.961,\n",
       "   0.963,\n",
       "   0.964,\n",
       "   0.963,\n",
       "   0.964,\n",
       "   0.965,\n",
       "   0.963,\n",
       "   0.965,\n",
       "   0.962,\n",
       "   0.965],\n",
       "  'aucs': [0.816,\n",
       "   0.845,\n",
       "   0.865,\n",
       "   0.821,\n",
       "   0.779,\n",
       "   0.776,\n",
       "   0.806,\n",
       "   0.806,\n",
       "   0.801,\n",
       "   0.797],\n",
       "  'acc_mean': 0.964,\n",
       "  'acc_std': 0.001,\n",
       "  'auc_mean': 0.811,\n",
       "  'auc_std': 0.026},\n",
       " 'chargeOuter_PXLayer_4': {'accs': [0.963,\n",
       "   0.964,\n",
       "   0.964,\n",
       "   0.965,\n",
       "   0.965,\n",
       "   0.966,\n",
       "   0.961,\n",
       "   0.968,\n",
       "   0.967,\n",
       "   0.967],\n",
       "  'aucs': [0.804,\n",
       "   0.735,\n",
       "   0.773,\n",
       "   0.799,\n",
       "   0.795,\n",
       "   0.779,\n",
       "   0.78,\n",
       "   0.798,\n",
       "   0.807,\n",
       "   0.784],\n",
       "  'acc_mean': 0.965,\n",
       "  'acc_std': 0.002,\n",
       "  'auc_mean': 0.785,\n",
       "  'auc_std': 0.02},\n",
       " 'size_PXLayer_1': {'accs': [0.992,\n",
       "   0.993,\n",
       "   0.992,\n",
       "   0.994,\n",
       "   0.99,\n",
       "   0.988,\n",
       "   0.992,\n",
       "   0.986,\n",
       "   0.992,\n",
       "   0.994],\n",
       "  'aucs': [0.995,\n",
       "   0.986,\n",
       "   0.986,\n",
       "   0.991,\n",
       "   0.989,\n",
       "   0.98,\n",
       "   0.986,\n",
       "   0.984,\n",
       "   0.989,\n",
       "   0.997],\n",
       "  'acc_mean': 0.991,\n",
       "  'acc_std': 0.002,\n",
       "  'auc_mean': 0.988,\n",
       "  'auc_std': 0.005},\n",
       " 'size_PXLayer_2': {'accs': [0.982,\n",
       "   0.98,\n",
       "   0.986,\n",
       "   0.979,\n",
       "   0.979,\n",
       "   0.982,\n",
       "   0.979,\n",
       "   0.982,\n",
       "   0.981,\n",
       "   0.982],\n",
       "  'aucs': [0.914,\n",
       "   0.894,\n",
       "   0.921,\n",
       "   0.904,\n",
       "   0.887,\n",
       "   0.914,\n",
       "   0.892,\n",
       "   0.902,\n",
       "   0.929,\n",
       "   0.916],\n",
       "  'acc_mean': 0.981,\n",
       "  'acc_std': 0.002,\n",
       "  'auc_mean': 0.907,\n",
       "  'auc_std': 0.013},\n",
       " 'size_PXLayer_3': {'accs': [0.97,\n",
       "   0.968,\n",
       "   0.968,\n",
       "   0.972,\n",
       "   0.967,\n",
       "   0.975,\n",
       "   0.968,\n",
       "   0.971,\n",
       "   0.966,\n",
       "   0.974],\n",
       "  'aucs': [0.837,\n",
       "   0.858,\n",
       "   0.821,\n",
       "   0.876,\n",
       "   0.836,\n",
       "   0.863,\n",
       "   0.839,\n",
       "   0.855,\n",
       "   0.821,\n",
       "   0.844],\n",
       "  'acc_mean': 0.97,\n",
       "  'acc_std': 0.003,\n",
       "  'auc_mean': 0.845,\n",
       "  'auc_std': 0.017},\n",
       " 'size_PXLayer_4': {'accs': [0.966,\n",
       "   0.965,\n",
       "   0.961,\n",
       "   0.969,\n",
       "   0.967,\n",
       "   0.966,\n",
       "   0.967,\n",
       "   0.97,\n",
       "   0.971,\n",
       "   0.967],\n",
       "  'aucs': [0.753, 0.803, 0.798, 0.796, 0.819, 0.8, 0.819, 0.818, 0.853, 0.854],\n",
       "  'acc_mean': 0.967,\n",
       "  'acc_std': 0.003,\n",
       "  'auc_mean': 0.811,\n",
       "  'auc_std': 0.028},\n",
       " 'size_PXDisk_-3': {'accs': [0.961,\n",
       "   0.952,\n",
       "   0.959,\n",
       "   0.957,\n",
       "   0.957,\n",
       "   0.957,\n",
       "   0.958,\n",
       "   0.957,\n",
       "   0.954,\n",
       "   0.957],\n",
       "  'aucs': [0.842,\n",
       "   0.771,\n",
       "   0.831,\n",
       "   0.812,\n",
       "   0.822,\n",
       "   0.812,\n",
       "   0.809,\n",
       "   0.844,\n",
       "   0.808,\n",
       "   0.786],\n",
       "  'acc_mean': 0.957,\n",
       "  'acc_std': 0.002,\n",
       "  'auc_mean': 0.814,\n",
       "  'auc_std': 0.022},\n",
       " 'size_PXDisk_-2': {'accs': [0.954,\n",
       "   0.958,\n",
       "   0.955,\n",
       "   0.957,\n",
       "   0.953,\n",
       "   0.955,\n",
       "   0.953,\n",
       "   0.957,\n",
       "   0.957,\n",
       "   0.957],\n",
       "  'aucs': [0.818,\n",
       "   0.829,\n",
       "   0.798,\n",
       "   0.779,\n",
       "   0.771,\n",
       "   0.776,\n",
       "   0.777,\n",
       "   0.815,\n",
       "   0.814,\n",
       "   0.784],\n",
       "  'acc_mean': 0.956,\n",
       "  'acc_std': 0.002,\n",
       "  'auc_mean': 0.796,\n",
       "  'auc_std': 0.02},\n",
       " 'size_PXDisk_-1': {'accs': [0.968,\n",
       "   0.959,\n",
       "   0.96,\n",
       "   0.966,\n",
       "   0.958,\n",
       "   0.962,\n",
       "   0.963,\n",
       "   0.965,\n",
       "   0.958,\n",
       "   0.965],\n",
       "  'aucs': [0.866,\n",
       "   0.832,\n",
       "   0.842,\n",
       "   0.837,\n",
       "   0.842,\n",
       "   0.847,\n",
       "   0.83,\n",
       "   0.854,\n",
       "   0.822,\n",
       "   0.881],\n",
       "  'acc_mean': 0.962,\n",
       "  'acc_std': 0.003,\n",
       "  'auc_mean': 0.845,\n",
       "  'auc_std': 0.017},\n",
       " 'size_PXDisk_+1': {'accs': [0.96,\n",
       "   0.96,\n",
       "   0.964,\n",
       "   0.96,\n",
       "   0.961,\n",
       "   0.958,\n",
       "   0.957,\n",
       "   0.963,\n",
       "   0.964,\n",
       "   0.964],\n",
       "  'aucs': [0.875,\n",
       "   0.854,\n",
       "   0.872,\n",
       "   0.831,\n",
       "   0.882,\n",
       "   0.859,\n",
       "   0.827,\n",
       "   0.808,\n",
       "   0.851,\n",
       "   0.861],\n",
       "  'acc_mean': 0.961,\n",
       "  'acc_std': 0.002,\n",
       "  'auc_mean': 0.852,\n",
       "  'auc_std': 0.022},\n",
       " 'size_PXDisk_+2': {'accs': [0.958,\n",
       "   0.958,\n",
       "   0.957,\n",
       "   0.963,\n",
       "   0.957,\n",
       "   0.959,\n",
       "   0.961,\n",
       "   0.96,\n",
       "   0.965,\n",
       "   0.96],\n",
       "  'aucs': [0.863, 0.822, 0.821, 0.823, 0.83, 0.82, 0.843, 0.789, 0.866, 0.844],\n",
       "  'acc_mean': 0.96,\n",
       "  'acc_std': 0.002,\n",
       "  'auc_mean': 0.832,\n",
       "  'auc_std': 0.022},\n",
       " 'size_PXDisk_+3': {'accs': [0.965,\n",
       "   0.957,\n",
       "   0.954,\n",
       "   0.959,\n",
       "   0.957,\n",
       "   0.954,\n",
       "   0.96,\n",
       "   0.96,\n",
       "   0.954,\n",
       "   0.958],\n",
       "  'aucs': [0.86, 0.817, 0.83, 0.814, 0.797, 0.78, 0.797, 0.831, 0.743, 0.813],\n",
       "  'acc_mean': 0.958,\n",
       "  'acc_std': 0.003,\n",
       "  'auc_mean': 0.808,\n",
       "  'auc_std': 0.03},\n",
       " 'charge_PXDisk_-3': {'accs': [0.964,\n",
       "   0.964,\n",
       "   0.967,\n",
       "   0.967,\n",
       "   0.967,\n",
       "   0.965,\n",
       "   0.965,\n",
       "   0.968,\n",
       "   0.965,\n",
       "   0.968],\n",
       "  'aucs': [0.864,\n",
       "   0.82,\n",
       "   0.862,\n",
       "   0.864,\n",
       "   0.891,\n",
       "   0.872,\n",
       "   0.835,\n",
       "   0.896,\n",
       "   0.876,\n",
       "   0.834],\n",
       "  'acc_mean': 0.966,\n",
       "  'acc_std': 0.001,\n",
       "  'auc_mean': 0.861,\n",
       "  'auc_std': 0.024},\n",
       " 'charge_PXDisk_-2': {'accs': [0.966,\n",
       "   0.971,\n",
       "   0.967,\n",
       "   0.971,\n",
       "   0.968,\n",
       "   0.965,\n",
       "   0.966,\n",
       "   0.968,\n",
       "   0.967,\n",
       "   0.967],\n",
       "  'aucs': [0.868, 0.89, 0.848, 0.868, 0.851, 0.839, 0.886, 0.88, 0.867, 0.847],\n",
       "  'acc_mean': 0.968,\n",
       "  'acc_std': 0.002,\n",
       "  'auc_mean': 0.864,\n",
       "  'auc_std': 0.017},\n",
       " 'charge_PXDisk_-1': {'accs': [0.98,\n",
       "   0.974,\n",
       "   0.976,\n",
       "   0.976,\n",
       "   0.975,\n",
       "   0.974,\n",
       "   0.978,\n",
       "   0.974,\n",
       "   0.976,\n",
       "   0.978],\n",
       "  'aucs': [0.933,\n",
       "   0.894,\n",
       "   0.919,\n",
       "   0.909,\n",
       "   0.885,\n",
       "   0.905,\n",
       "   0.913,\n",
       "   0.867,\n",
       "   0.908,\n",
       "   0.926],\n",
       "  'acc_mean': 0.976,\n",
       "  'acc_std': 0.002,\n",
       "  'auc_mean': 0.906,\n",
       "  'auc_std': 0.019},\n",
       " 'charge_PXDisk_+1': {'accs': [0.969,\n",
       "   0.972,\n",
       "   0.966,\n",
       "   0.969,\n",
       "   0.969,\n",
       "   0.972,\n",
       "   0.968,\n",
       "   0.971,\n",
       "   0.968,\n",
       "   0.967],\n",
       "  'aucs': [0.859,\n",
       "   0.867,\n",
       "   0.877,\n",
       "   0.905,\n",
       "   0.882,\n",
       "   0.893,\n",
       "   0.919,\n",
       "   0.916,\n",
       "   0.881,\n",
       "   0.883],\n",
       "  'acc_mean': 0.969,\n",
       "  'acc_std': 0.002,\n",
       "  'auc_mean': 0.888,\n",
       "  'auc_std': 0.019},\n",
       " 'charge_PXDisk_+2': {'accs': [0.97,\n",
       "   0.968,\n",
       "   0.975,\n",
       "   0.966,\n",
       "   0.973,\n",
       "   0.967,\n",
       "   0.97,\n",
       "   0.971,\n",
       "   0.968,\n",
       "   0.966],\n",
       "  'aucs': [0.867, 0.825, 0.9, 0.817, 0.9, 0.82, 0.889, 0.857, 0.875, 0.841],\n",
       "  'acc_mean': 0.969,\n",
       "  'acc_std': 0.003,\n",
       "  'auc_mean': 0.859,\n",
       "  'auc_std': 0.031},\n",
       " 'charge_PXDisk_+3': {'accs': [0.969,\n",
       "   0.967,\n",
       "   0.968,\n",
       "   0.97,\n",
       "   0.973,\n",
       "   0.969,\n",
       "   0.968,\n",
       "   0.968,\n",
       "   0.968,\n",
       "   0.968],\n",
       "  'aucs': [0.878, 0.838, 0.869, 0.892, 0.858, 0.863, 0.861, 0.84, 0.85, 0.837],\n",
       "  'acc_mean': 0.969,\n",
       "  'acc_std': 0.002,\n",
       "  'auc_mean': 0.859,\n",
       "  'auc_std': 0.017}}"
      ]
     },
     "execution_count": 9,
     "metadata": {},
     "output_type": "execute_result"
    }
   ],
   "source": [
    "results"
   ]
  },
  {
   "cell_type": "code",
   "execution_count": null,
   "metadata": {},
   "outputs": [],
   "source": []
  },
  {
   "cell_type": "code",
   "execution_count": 45,
   "metadata": {
    "ExecuteTime": {
     "end_time": "2020-03-05T07:30:14.262122Z",
     "start_time": "2020-03-05T07:30:14.259729Z"
    }
   },
   "outputs": [],
   "source": [
    "from sklearn.metrics.pairwise import paired_distances\n",
    "from scipy.spatial.distance import jensenshannon, pdist\n"
   ]
  },
  {
   "cell_type": "code",
   "execution_count": 46,
   "metadata": {
    "ExecuteTime": {
     "end_time": "2020-03-05T07:32:27.210553Z",
     "start_time": "2020-03-05T07:30:16.452312Z"
    }
   },
   "outputs": [
    {
     "ename": "KeyboardInterrupt",
     "evalue": "",
     "output_type": "error",
     "traceback": [
      "\u001b[0;31m---------------------------------------------------------------------------\u001b[0m",
      "\u001b[0;31mKeyboardInterrupt\u001b[0m                         Traceback (most recent call last)",
      "\u001b[0;32m<ipython-input-46-ca563126840f>\u001b[0m in \u001b[0;36m<module>\u001b[0;34m\u001b[0m\n\u001b[0;32m----> 1\u001b[0;31m \u001b[0mpd\u001b[0m \u001b[0;34m=\u001b[0m \u001b[0mpdist\u001b[0m\u001b[0;34m(\u001b[0m\u001b[0mc\u001b[0m\u001b[0;34m.\u001b[0m\u001b[0mX\u001b[0m\u001b[0;34m,\u001b[0m \u001b[0mmetric\u001b[0m\u001b[0;34m=\u001b[0m\u001b[0mjensenshannon\u001b[0m\u001b[0;34m)\u001b[0m\u001b[0;34m\u001b[0m\u001b[0;34m\u001b[0m\u001b[0m\n\u001b[0m",
      "\u001b[0;32m~/anaconda3/lib/python3.7/site-packages/scipy/spatial/distance.py\u001b[0m in \u001b[0;36mpdist\u001b[0;34m(X, metric, *args, **kwargs)\u001b[0m\n\u001b[1;32m   2047\u001b[0m         \u001b[0;32mfor\u001b[0m \u001b[0mi\u001b[0m \u001b[0;32min\u001b[0m \u001b[0mxrange\u001b[0m\u001b[0;34m(\u001b[0m\u001b[0;36m0\u001b[0m\u001b[0;34m,\u001b[0m \u001b[0mm\u001b[0m \u001b[0;34m-\u001b[0m \u001b[0;36m1\u001b[0m\u001b[0;34m)\u001b[0m\u001b[0;34m:\u001b[0m\u001b[0;34m\u001b[0m\u001b[0;34m\u001b[0m\u001b[0m\n\u001b[1;32m   2048\u001b[0m             \u001b[0;32mfor\u001b[0m \u001b[0mj\u001b[0m \u001b[0;32min\u001b[0m \u001b[0mxrange\u001b[0m\u001b[0;34m(\u001b[0m\u001b[0mi\u001b[0m \u001b[0;34m+\u001b[0m \u001b[0;36m1\u001b[0m\u001b[0;34m,\u001b[0m \u001b[0mm\u001b[0m\u001b[0;34m)\u001b[0m\u001b[0;34m:\u001b[0m\u001b[0;34m\u001b[0m\u001b[0;34m\u001b[0m\u001b[0m\n\u001b[0;32m-> 2049\u001b[0;31m                 \u001b[0mdm\u001b[0m\u001b[0;34m[\u001b[0m\u001b[0mk\u001b[0m\u001b[0;34m]\u001b[0m \u001b[0;34m=\u001b[0m \u001b[0mmetric\u001b[0m\u001b[0;34m(\u001b[0m\u001b[0mX\u001b[0m\u001b[0;34m[\u001b[0m\u001b[0mi\u001b[0m\u001b[0;34m]\u001b[0m\u001b[0;34m,\u001b[0m \u001b[0mX\u001b[0m\u001b[0;34m[\u001b[0m\u001b[0mj\u001b[0m\u001b[0;34m]\u001b[0m\u001b[0;34m,\u001b[0m \u001b[0;34m**\u001b[0m\u001b[0mkwargs\u001b[0m\u001b[0;34m)\u001b[0m\u001b[0;34m\u001b[0m\u001b[0;34m\u001b[0m\u001b[0m\n\u001b[0m\u001b[1;32m   2050\u001b[0m                 \u001b[0mk\u001b[0m \u001b[0;34m=\u001b[0m \u001b[0mk\u001b[0m \u001b[0;34m+\u001b[0m \u001b[0;36m1\u001b[0m\u001b[0;34m\u001b[0m\u001b[0;34m\u001b[0m\u001b[0m\n\u001b[1;32m   2051\u001b[0m \u001b[0;34m\u001b[0m\u001b[0m\n",
      "\u001b[0;32m~/anaconda3/lib/python3.7/site-packages/scipy/spatial/distance.py\u001b[0m in \u001b[0;36mjensenshannon\u001b[0;34m(p, q, base)\u001b[0m\n\u001b[1;32m   1291\u001b[0m     \u001b[0mleft\u001b[0m \u001b[0;34m=\u001b[0m \u001b[0mrel_entr\u001b[0m\u001b[0;34m(\u001b[0m\u001b[0mp\u001b[0m\u001b[0;34m,\u001b[0m \u001b[0mm\u001b[0m\u001b[0;34m)\u001b[0m\u001b[0;34m\u001b[0m\u001b[0;34m\u001b[0m\u001b[0m\n\u001b[1;32m   1292\u001b[0m     \u001b[0mright\u001b[0m \u001b[0;34m=\u001b[0m \u001b[0mrel_entr\u001b[0m\u001b[0;34m(\u001b[0m\u001b[0mq\u001b[0m\u001b[0;34m,\u001b[0m \u001b[0mm\u001b[0m\u001b[0;34m)\u001b[0m\u001b[0;34m\u001b[0m\u001b[0;34m\u001b[0m\u001b[0m\n\u001b[0;32m-> 1293\u001b[0;31m     \u001b[0mjs\u001b[0m \u001b[0;34m=\u001b[0m \u001b[0mnp\u001b[0m\u001b[0;34m.\u001b[0m\u001b[0msum\u001b[0m\u001b[0;34m(\u001b[0m\u001b[0mleft\u001b[0m\u001b[0;34m,\u001b[0m \u001b[0maxis\u001b[0m\u001b[0;34m=\u001b[0m\u001b[0;36m0\u001b[0m\u001b[0;34m)\u001b[0m \u001b[0;34m+\u001b[0m \u001b[0mnp\u001b[0m\u001b[0;34m.\u001b[0m\u001b[0msum\u001b[0m\u001b[0;34m(\u001b[0m\u001b[0mright\u001b[0m\u001b[0;34m,\u001b[0m \u001b[0maxis\u001b[0m\u001b[0;34m=\u001b[0m\u001b[0;36m0\u001b[0m\u001b[0;34m)\u001b[0m\u001b[0;34m\u001b[0m\u001b[0;34m\u001b[0m\u001b[0m\n\u001b[0m\u001b[1;32m   1294\u001b[0m     \u001b[0;32mif\u001b[0m \u001b[0mbase\u001b[0m \u001b[0;32mis\u001b[0m \u001b[0;32mnot\u001b[0m \u001b[0;32mNone\u001b[0m\u001b[0;34m:\u001b[0m\u001b[0;34m\u001b[0m\u001b[0;34m\u001b[0m\u001b[0m\n\u001b[1;32m   1295\u001b[0m         \u001b[0mjs\u001b[0m \u001b[0;34m/=\u001b[0m \u001b[0mnp\u001b[0m\u001b[0;34m.\u001b[0m\u001b[0mlog\u001b[0m\u001b[0;34m(\u001b[0m\u001b[0mbase\u001b[0m\u001b[0;34m)\u001b[0m\u001b[0;34m\u001b[0m\u001b[0;34m\u001b[0m\u001b[0m\n",
      "\u001b[0;32m<__array_function__ internals>\u001b[0m in \u001b[0;36msum\u001b[0;34m(*args, **kwargs)\u001b[0m\n",
      "\u001b[0;32m~/anaconda3/lib/python3.7/site-packages/numpy/core/fromnumeric.py\u001b[0m in \u001b[0;36msum\u001b[0;34m(a, axis, dtype, out, keepdims, initial, where)\u001b[0m\n\u001b[1;32m   2180\u001b[0m \u001b[0;34m\u001b[0m\u001b[0m\n\u001b[1;32m   2181\u001b[0m     return _wrapreduction(a, np.add, 'sum', axis, dtype, out, keepdims=keepdims,\n\u001b[0;32m-> 2182\u001b[0;31m                           initial=initial, where=where)\n\u001b[0m\u001b[1;32m   2183\u001b[0m \u001b[0;34m\u001b[0m\u001b[0m\n\u001b[1;32m   2184\u001b[0m \u001b[0;34m\u001b[0m\u001b[0m\n",
      "\u001b[0;32m~/anaconda3/lib/python3.7/site-packages/numpy/core/fromnumeric.py\u001b[0m in \u001b[0;36m_wrapreduction\u001b[0;34m(obj, ufunc, method, axis, dtype, out, **kwargs)\u001b[0m\n\u001b[1;32m     72\u001b[0m \u001b[0;34m\u001b[0m\u001b[0m\n\u001b[1;32m     73\u001b[0m \u001b[0;32mdef\u001b[0m \u001b[0m_wrapreduction\u001b[0m\u001b[0;34m(\u001b[0m\u001b[0mobj\u001b[0m\u001b[0;34m,\u001b[0m \u001b[0mufunc\u001b[0m\u001b[0;34m,\u001b[0m \u001b[0mmethod\u001b[0m\u001b[0;34m,\u001b[0m \u001b[0maxis\u001b[0m\u001b[0;34m,\u001b[0m \u001b[0mdtype\u001b[0m\u001b[0;34m,\u001b[0m \u001b[0mout\u001b[0m\u001b[0;34m,\u001b[0m \u001b[0;34m**\u001b[0m\u001b[0mkwargs\u001b[0m\u001b[0;34m)\u001b[0m\u001b[0;34m:\u001b[0m\u001b[0;34m\u001b[0m\u001b[0;34m\u001b[0m\u001b[0m\n\u001b[0;32m---> 74\u001b[0;31m     passkwargs = {k: v for k, v in kwargs.items()\n\u001b[0m\u001b[1;32m     75\u001b[0m                   if v is not np._NoValue}\n\u001b[1;32m     76\u001b[0m \u001b[0;34m\u001b[0m\u001b[0m\n",
      "\u001b[0;31mKeyboardInterrupt\u001b[0m: "
     ]
    }
   ],
   "source": [
    "pd = pdist(c.X, metric=jensenshannon)"
   ]
  },
  {
   "cell_type": "code",
   "execution_count": 42,
   "metadata": {
    "ExecuteTime": {
     "end_time": "2020-03-05T07:29:01.841262Z",
     "start_time": "2020-03-05T07:29:01.832567Z"
    }
   },
   "outputs": [
    {
     "data": {
      "text/plain": [
       "27208"
      ]
     },
     "execution_count": 42,
     "metadata": {},
     "output_type": "execute_result"
    }
   ],
   "source": [
    "len(pd)"
   ]
  },
  {
   "cell_type": "code",
   "execution_count": 43,
   "metadata": {
    "ExecuteTime": {
     "end_time": "2020-03-05T07:29:08.689611Z",
     "start_time": "2020-03-05T07:29:08.679500Z"
    }
   },
   "outputs": [
    {
     "data": {
      "text/plain": [
       "array([0., 0., 0., ..., 0., 0., 0.])"
      ]
     },
     "execution_count": 43,
     "metadata": {},
     "output_type": "execute_result"
    }
   ],
   "source": [
    "pd"
   ]
  }
 ],
 "metadata": {
  "kernelspec": {
   "display_name": "Python 3",
   "language": "python",
   "name": "python3"
  },
  "language_info": {
   "codemirror_mode": {
    "name": "ipython",
    "version": 3
   },
   "file_extension": ".py",
   "mimetype": "text/x-python",
   "name": "python",
   "nbconvert_exporter": "python",
   "pygments_lexer": "ipython3",
   "version": "3.7.4"
  },
  "varInspector": {
   "cols": {
    "lenName": 16,
    "lenType": 16,
    "lenVar": 40
   },
   "kernels_config": {
    "python": {
     "delete_cmd_postfix": "",
     "delete_cmd_prefix": "del ",
     "library": "var_list.py",
     "varRefreshCmd": "print(var_dic_list())"
    },
    "r": {
     "delete_cmd_postfix": ") ",
     "delete_cmd_prefix": "rm(",
     "library": "var_list.r",
     "varRefreshCmd": "cat(var_dic_list()) "
    }
   },
   "types_to_exclude": [
    "module",
    "function",
    "builtin_function_or_method",
    "instance",
    "_Feature"
   ],
   "window_display": false
  }
 },
 "nbformat": 4,
 "nbformat_minor": 2
}
