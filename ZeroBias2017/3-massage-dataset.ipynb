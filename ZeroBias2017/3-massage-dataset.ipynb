{
 "cells": [
  {
   "cell_type": "code",
   "execution_count": 1,
   "metadata": {
    "ExecuteTime": {
     "end_time": "2020-02-02T09:40:22.274199Z",
     "start_time": "2020-02-02T09:40:21.864329Z"
    }
   },
   "outputs": [],
   "source": [
    "import os\n",
    "import json\n",
    "import pandas as pd\n",
    "from utils import transform_histo_to_columns, BadJSON"
   ]
  },
  {
   "cell_type": "markdown",
   "metadata": {},
   "source": [
    "### Two important steps\n",
    "Original dataset consists of a column named histo, which is actually a string holding a list of numbers.\n",
    "\n",
    "Example \"[1,2,3,4,5,5]\"\n",
    "\n",
    "Another step is related to Pixel only histograms. We have a antiGoldenJSON for Pixel file which containts Lumisections where Pixel was BAD.\n",
    "\n",
    "* First step is to transform that column into N columns called bin_0, ..., bin_100, ... bin_N\n",
    "* Second step is to create column for labels called good_pixel where we take into account when pixel was good or bad"
   ]
  },
  {
   "cell_type": "code",
   "execution_count": 2,
   "metadata": {
    "ExecuteTime": {
     "end_time": "2020-02-02T09:40:22.280500Z",
     "start_time": "2020-02-02T09:40:22.275861Z"
    }
   },
   "outputs": [],
   "source": [
    "bad_json = BadJSON(\"/home/mantydze/data/bad_pixel.json\")\n",
    "\n",
    "# Location where datasets are stored\n",
    "original_location = \"/home/mantydze/data/ZeroBias2017B\"#/perHistoMerged\"\n",
    "massaged_location = \"/home/mantydze/data/ZeroBias2017B/massaged\"\n",
    "\n",
    "if not os.path.exists(massaged_location):\n",
    "    os.makedirs(massaged_location)\n",
    "    \n",
    "# Histogram names to be massaged\n",
    "cipxl = [\"chargeInner_PXLayer_1\", \"chargeInner_PXLayer_2\", \"chargeInner_PXLayer_3\", \"chargeInner_PXLayer_4\"]\n",
    "copxl = [\"chargeOuter_PXLayer_1\", \"chargeOuter_PXLayer_2\", \"chargeOuter_PXLayer_3\", \"chargeOuter_PXLayer_4\"]\n",
    "spxl = [\"size_PXLayer_1\", \"size_PXLayer_2\", \"size_PXLayer_3\", \"size_PXLayer_4\"]\n",
    "spxd = [\"size_PXDisk_-3\", \"size_PXDisk_-2\", \"size_PXDisk_-1\", \"size_PXDisk_+1\", \"size_PXDisk_+2\", \"size_PXDisk_+3\"]\n",
    "cpxd = [\"charge_PXDisk_-3\", \"charge_PXDisk_-2\", \"charge_PXDisk_-1\", \"charge_PXDisk_+1\", \"charge_PXDisk_+2\", \"charge_PXDisk_+3\"]\n",
    "\n",
    "hnames = cipxl + copxl + spxl + spxd + cpxd"
   ]
  },
  {
   "cell_type": "code",
   "execution_count": 3,
   "metadata": {
    "ExecuteTime": {
     "end_time": "2020-02-02T09:43:59.543363Z",
     "start_time": "2020-02-02T09:40:22.281925Z"
    }
   },
   "outputs": [
    {
     "name": "stdout",
     "output_type": "stream",
     "text": [
      "/home/mantydze/data/ZeroBias2017B/chargeInner_PXLayer_1.csv\n",
      "/home/mantydze/data/ZeroBias2017B/massaged/chargeInner_PXLayer_1.csv\n",
      "/home/mantydze/data/ZeroBias2017B/chargeInner_PXLayer_2.csv\n",
      "/home/mantydze/data/ZeroBias2017B/massaged/chargeInner_PXLayer_2.csv\n",
      "/home/mantydze/data/ZeroBias2017B/chargeInner_PXLayer_3.csv\n",
      "/home/mantydze/data/ZeroBias2017B/massaged/chargeInner_PXLayer_3.csv\n",
      "/home/mantydze/data/ZeroBias2017B/chargeInner_PXLayer_4.csv\n",
      "/home/mantydze/data/ZeroBias2017B/massaged/chargeInner_PXLayer_4.csv\n",
      "/home/mantydze/data/ZeroBias2017B/chargeOuter_PXLayer_1.csv\n",
      "/home/mantydze/data/ZeroBias2017B/massaged/chargeOuter_PXLayer_1.csv\n",
      "/home/mantydze/data/ZeroBias2017B/chargeOuter_PXLayer_2.csv\n",
      "/home/mantydze/data/ZeroBias2017B/massaged/chargeOuter_PXLayer_2.csv\n",
      "/home/mantydze/data/ZeroBias2017B/chargeOuter_PXLayer_3.csv\n",
      "/home/mantydze/data/ZeroBias2017B/massaged/chargeOuter_PXLayer_3.csv\n",
      "/home/mantydze/data/ZeroBias2017B/chargeOuter_PXLayer_4.csv\n",
      "/home/mantydze/data/ZeroBias2017B/massaged/chargeOuter_PXLayer_4.csv\n",
      "/home/mantydze/data/ZeroBias2017B/size_PXLayer_1.csv\n",
      "/home/mantydze/data/ZeroBias2017B/massaged/size_PXLayer_1.csv\n",
      "/home/mantydze/data/ZeroBias2017B/size_PXLayer_2.csv\n",
      "/home/mantydze/data/ZeroBias2017B/massaged/size_PXLayer_2.csv\n",
      "/home/mantydze/data/ZeroBias2017B/size_PXLayer_3.csv\n",
      "/home/mantydze/data/ZeroBias2017B/massaged/size_PXLayer_3.csv\n",
      "/home/mantydze/data/ZeroBias2017B/size_PXLayer_4.csv\n",
      "/home/mantydze/data/ZeroBias2017B/massaged/size_PXLayer_4.csv\n",
      "/home/mantydze/data/ZeroBias2017B/size_PXDisk_-3.csv\n",
      "/home/mantydze/data/ZeroBias2017B/massaged/size_PXDisk_-3.csv\n",
      "/home/mantydze/data/ZeroBias2017B/size_PXDisk_-2.csv\n",
      "/home/mantydze/data/ZeroBias2017B/massaged/size_PXDisk_-2.csv\n",
      "/home/mantydze/data/ZeroBias2017B/size_PXDisk_-1.csv\n",
      "/home/mantydze/data/ZeroBias2017B/massaged/size_PXDisk_-1.csv\n",
      "/home/mantydze/data/ZeroBias2017B/size_PXDisk_+1.csv\n",
      "/home/mantydze/data/ZeroBias2017B/massaged/size_PXDisk_+1.csv\n",
      "/home/mantydze/data/ZeroBias2017B/size_PXDisk_+2.csv\n",
      "/home/mantydze/data/ZeroBias2017B/massaged/size_PXDisk_+2.csv\n",
      "/home/mantydze/data/ZeroBias2017B/size_PXDisk_+3.csv\n",
      "/home/mantydze/data/ZeroBias2017B/massaged/size_PXDisk_+3.csv\n",
      "/home/mantydze/data/ZeroBias2017B/charge_PXDisk_-3.csv\n",
      "/home/mantydze/data/ZeroBias2017B/massaged/charge_PXDisk_-3.csv\n",
      "/home/mantydze/data/ZeroBias2017B/charge_PXDisk_-2.csv\n",
      "/home/mantydze/data/ZeroBias2017B/massaged/charge_PXDisk_-2.csv\n",
      "/home/mantydze/data/ZeroBias2017B/charge_PXDisk_-1.csv\n",
      "/home/mantydze/data/ZeroBias2017B/massaged/charge_PXDisk_-1.csv\n",
      "/home/mantydze/data/ZeroBias2017B/charge_PXDisk_+1.csv\n",
      "/home/mantydze/data/ZeroBias2017B/massaged/charge_PXDisk_+1.csv\n",
      "/home/mantydze/data/ZeroBias2017B/charge_PXDisk_+2.csv\n",
      "/home/mantydze/data/ZeroBias2017B/massaged/charge_PXDisk_+2.csv\n",
      "/home/mantydze/data/ZeroBias2017B/charge_PXDisk_+3.csv\n",
      "/home/mantydze/data/ZeroBias2017B/massaged/charge_PXDisk_+3.csv\n"
     ]
    }
   ],
   "source": [
    "for hname in hnames:\n",
    "    df_path = os.path.join(original_location, \"%s.csv\" % hname)\n",
    "    \n",
    "    if not os.path.isfile(df_path):\n",
    "        print(df_path, \"does not exist\")\n",
    "        continue\n",
    "    \n",
    "    print(df_path)\n",
    "    \n",
    "    df = pd.read_csv(df_path)\n",
    "    \n",
    "    df[\"good_pixel\"] = df.apply(bad_json.is_good, axis=1)\n",
    "    \n",
    "    # Convert histo(list as string) into N columns named bin_0... bin_N\n",
    "    df = transform_histo_to_columns(df)\n",
    "    \n",
    "    new_df_path = os.path.join(massaged_location, \"%s.csv\" % hname)\n",
    "    print(new_df_path)\n",
    "    df.to_csv(new_df_path, index=False)"
   ]
  },
  {
   "cell_type": "code",
   "execution_count": null,
   "metadata": {},
   "outputs": [],
   "source": []
  }
 ],
 "metadata": {
  "kernelspec": {
   "display_name": "Python 3",
   "language": "python",
   "name": "python3"
  },
  "language_info": {
   "codemirror_mode": {
    "name": "ipython",
    "version": 3
   },
   "file_extension": ".py",
   "mimetype": "text/x-python",
   "name": "python",
   "nbconvert_exporter": "python",
   "pygments_lexer": "ipython3",
   "version": "3.7.4"
  },
  "varInspector": {
   "cols": {
    "lenName": 16,
    "lenType": 16,
    "lenVar": 40
   },
   "kernels_config": {
    "python": {
     "delete_cmd_postfix": "",
     "delete_cmd_prefix": "del ",
     "library": "var_list.py",
     "varRefreshCmd": "print(var_dic_list())"
    },
    "r": {
     "delete_cmd_postfix": ") ",
     "delete_cmd_prefix": "rm(",
     "library": "var_list.r",
     "varRefreshCmd": "cat(var_dic_list()) "
    }
   },
   "types_to_exclude": [
    "module",
    "function",
    "builtin_function_or_method",
    "instance",
    "_Feature"
   ],
   "window_display": false
  }
 },
 "nbformat": 4,
 "nbformat_minor": 2
}
