{
 "cells": [
  {
   "cell_type": "code",
   "execution_count": 1,
   "metadata": {},
   "outputs": [],
   "source": [
    "import os\n",
    "import json\n",
    "import numpy as np\n",
    "import sqlite3\n",
    "import matplotlib.pyplot as plt"
   ]
  },
  {
   "cell_type": "code",
   "execution_count": 2,
   "metadata": {},
   "outputs": [],
   "source": [
    "### Configuration\n",
    "\n",
    "SAVE_FIGURES = True\n",
    "SQLITE_PATH = \"/eos/user/m/mantydze/DQMIO2017/ZeroBias2017D.sqlite\"\n",
    "\n",
    "RUN = 302040\n",
    "HISTOGRAM = \"RPC/AllHits/SummaryHistograms/Occupancy_for_Barrel\""
   ]
  },
  {
   "cell_type": "code",
   "execution_count": 3,
   "metadata": {},
   "outputs": [],
   "source": [
    "### Create export directory RUN/HISTOGRAM/\n",
    "\n",
    "fig_name = HISTOGRAM.replace(\"/\", \".\")\n",
    "\n",
    "# Run directory\n",
    "if not os.path.exists(str(RUN)):\n",
    "    os.makedirs(str(RUN))\n",
    "\n",
    "# histogram directory\n",
    "dir_name = os.path.join(str(RUN), fig_name)\n",
    "if not os.path.exists(dir_name):\n",
    "    os.makedirs(dir_name)"
   ]
  },
  {
   "cell_type": "code",
   "execution_count": 4,
   "metadata": {},
   "outputs": [],
   "source": [
    "conn = sqlite3.connect(SQLITE_PATH)\n",
    "conn.row_factory = sqlite3.Row\n",
    "c = conn.cursor()"
   ]
  },
  {
   "cell_type": "code",
   "execution_count": 5,
   "metadata": {},
   "outputs": [],
   "source": [
    "def create_heatmap(width, height, data, title=\"\", filename=None):\n",
    "    \n",
    "    heatmap = np.array(data).reshape(height, width)\n",
    "    \n",
    "    # remove border\n",
    "    heatmap = heatmap[1:height-1, 1:width-1]\n",
    "    \n",
    "    plt.figure(figsize=(15,10))\n",
    "    plt.title(title)\n",
    "    plt.colorbar(plt.pcolor(heatmap, cmap=\"rainbow\"))\n",
    "    \n",
    "    # Annotate\n",
    "    for y in range(heatmap.shape[0]):\n",
    "        for x in range(heatmap.shape[1]):\n",
    "            plt.text(x + 0.5, y + 0.5, '%d' % heatmap[y, x],\n",
    "                    horizontalalignment='center',\n",
    "                    verticalalignment='center',)\n",
    "    \n",
    "    if SAVE_FIGURES:\n",
    "        plt.savefig(filename)    \n",
    "        plt.close()"
   ]
  },
  {
   "cell_type": "code",
   "execution_count": 7,
   "metadata": {},
   "outputs": [],
   "source": [
    "query = c.execute(\"Select * FROM monitorelements WHERE fromrun = ? and name = ?\", (RUN, HISTOGRAM))\n",
    "\n",
    "rows = query.fetchall()\n",
    "\n",
    "row = dict(rows[0])\n",
    "jvalue = json.loads((row[\"value\"]))\n",
    "\n",
    "width = jvalue[\"fXaxis\"][\"fNbins\"] + 2 # +2 because border is added on both X and Y axis\n",
    "height = jvalue[\"fYaxis\"][\"fNbins\"] + 2\n",
    "title = jvalue[\"fTitle\"]\n",
    "total = np.zeros(width*height) # Accumulated values during whole run\n",
    "\n",
    "# Cross-check if numbers match\n",
    "if jvalue[\"fNcells\"] != (width*height):\n",
    "    import sys\n",
    "    sys.exit()\n",
    "\n",
    "# Iterate over all lumisections\n",
    "for row in rows:\n",
    "    \n",
    "    ls = row[\"fromlumi\"]\n",
    "    _filename = os.path.join(dir_name, \"{fig_name}-{run}-{ls}.png\".format(fig_name=fig_name, run=RUN, ls=ls))\n",
    "    _title = \"{title} LS #{ls}\".format(title=title, ls=ls)\n",
    "\n",
    "    # 2D histogram                                 \n",
    "    if jvalue[\"_typename\"] == \"TH2F\":\n",
    "        create_heatmap(width, height, jvalue[\"fArray\"], title=_title, filename=_filename)\n",
    "        total = np.add(total, jvalue[\"fArray\"])                     \n",
    "\n",
    "# 2D histogram        \n",
    "if jvalue[\"_typename\"] == \"TH2F\":\n",
    "    _filename = os.path.join(dir_name, \"{fig_name}-{run}.png\".format(fig_name=fig_name, run=RUN))\n",
    "    create_heatmap(width, height, total, title=title, filename=_filename)"
   ]
  },
  {
   "cell_type": "code",
   "execution_count": null,
   "metadata": {},
   "outputs": [],
   "source": []
  }
 ],
 "metadata": {
  "kernelspec": {
   "display_name": "Python 3",
   "language": "python",
   "name": "python3"
  },
  "language_info": {
   "codemirror_mode": {
    "name": "ipython",
    "version": 3
   },
   "file_extension": ".py",
   "mimetype": "text/x-python",
   "name": "python",
   "nbconvert_exporter": "python",
   "pygments_lexer": "ipython3",
   "version": "3.6.5"
  }
 },
 "nbformat": 4,
 "nbformat_minor": 2
}
